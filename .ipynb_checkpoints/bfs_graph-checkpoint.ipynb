{
 "cells": [
  {
   "cell_type": "code",
   "execution_count": 1,
   "metadata": {},
   "outputs": [],
   "source": [
    "graph_dict = {\n",
    "    'PSRN' : ['MJK', 'MLG', 'SDA'],\n",
    "    'MLG' : ['PSRN', 'BATU'],\n",
    "    'MJK' : ['PSRN', 'JBG'],\n",
    "    'SDA' : ['PSRN', 'SBY'],\n",
    "    'SBY' : ['SDA', 'GRS'],\n",
    "    'BATU' : ['MLG', 'JBG']\n",
    "};"
   ]
  },
  {
   "cell_type": "code",
   "execution_count": 2,
   "metadata": {},
   "outputs": [
    {
     "name": "stdout",
     "output_type": "stream",
     "text": [
      "{'PSRN': ['MJK', 'MLG', 'SDA'], 'MLG': ['PSRN', 'BATU'], 'MJK': ['PSRN', 'JBG'], 'SDA': ['PSRN', 'SBY'], 'SBY': ['SDA', 'GRS'], 'BATU': ['MLG', 'JBG']}\n"
     ]
    }
   ],
   "source": [
    "print(graph_dict)"
   ]
  },
  {
   "cell_type": "code",
   "execution_count": 3,
   "metadata": {},
   "outputs": [],
   "source": [
    "class Graph:\n",
    "    \n",
    "    def __init__(self, graph = None):\n",
    "        if graph is None:\n",
    "            graph = {}\n",
    "        self.graph = graph\n",
    "    \n",
    "    def getVertices(self):\n",
    "        return list(self.graph.keys())\n",
    "    \n",
    "    def addVertices(self, vertex):\n",
    "        if vertex not in self.graph.keys():\n",
    "            self.graph[vertex] = []"
   ]
  },
  {
   "cell_type": "code",
   "execution_count": 4,
   "metadata": {},
   "outputs": [
    {
     "name": "stdout",
     "output_type": "stream",
     "text": [
      "GRS\n"
     ]
    }
   ],
   "source": [
    "g = Graph(graph_dict)\n",
    "g.addVertices('GRS')\n",
    "g.getVertices()"
   ]
  },
  {
   "cell_type": "code",
   "execution_count": null,
   "metadata": {},
   "outputs": [],
   "source": []
  }
 ],
 "metadata": {
  "kernelspec": {
   "display_name": "Python 3",
   "language": "python",
   "name": "python3"
  },
  "language_info": {
   "codemirror_mode": {
    "name": "ipython",
    "version": 3
   },
   "file_extension": ".py",
   "mimetype": "text/x-python",
   "name": "python",
   "nbconvert_exporter": "python",
   "pygments_lexer": "ipython3",
   "version": "3.9.0"
  },
  "vscode": {
   "interpreter": {
    "hash": "81794d4967e6c3204c66dcd87b604927b115b27c00565d3d43f05ba2f3a2cb0d"
   }
  }
 },
 "nbformat": 4,
 "nbformat_minor": 2
}
