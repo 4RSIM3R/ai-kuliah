{
 "cells": [
  {
   "cell_type": "code",
   "execution_count": 1,
   "id": "52fb4589",
   "metadata": {},
   "outputs": [],
   "source": [
    "class Node:\n",
    "    \n",
    "    def __init__(self):\n",
    "        self.left = None\n",
    "        self.data = None\n",
    "        self.right = None\n",
    "        \n",
    "    def insert(self, payload):\n",
    "        if self.data is not None:\n",
    "            if payload < self.data:\n",
    "                if self.left is None:\n",
    "                    self.left = payload\n",
    "                else:\n",
    "                    self.insert(payload)\n",
    "            elif payload > self.data:\n",
    "                if self.right is None:\n",
    "                    self.right = payload\n",
    "                else:\n",
    "                    self.insert(payload)\n",
    "            else:\n",
    "                return None\n",
    "        else:\n",
    "            self.data = payload"
   ]
  },
  {
   "cell_type": "code",
   "execution_count": 2,
   "id": "fe8335dc",
   "metadata": {},
   "outputs": [
    {
     "name": "stdout",
     "output_type": "stream",
     "text": [
      "Insert to left\n",
      "Insert to right\n"
     ]
    }
   ],
   "source": [
    "node = Node()\n",
    "node.insert(3)\n",
    "node.insert(2)\n",
    "node.insert(4)"
   ]
  },
  {
   "cell_type": "code",
   "execution_count": null,
   "id": "47068889",
   "metadata": {},
   "outputs": [],
   "source": []
  }
 ],
 "metadata": {
  "kernelspec": {
   "display_name": "Python 3",
   "language": "python",
   "name": "python3"
  },
  "language_info": {
   "codemirror_mode": {
    "name": "ipython",
    "version": 3
   },
   "file_extension": ".py",
   "mimetype": "text/x-python",
   "name": "python",
   "nbconvert_exporter": "python",
   "pygments_lexer": "ipython3",
   "version": "3.9.0"
  }
 },
 "nbformat": 4,
 "nbformat_minor": 5
}
