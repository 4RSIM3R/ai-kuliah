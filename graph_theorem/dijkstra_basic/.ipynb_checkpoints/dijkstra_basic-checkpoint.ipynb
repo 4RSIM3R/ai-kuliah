{
 "cells": [
  {
   "cell_type": "code",
   "execution_count": 1,
   "metadata": {},
   "outputs": [
    {
     "name": "stdout",
     "output_type": "stream",
     "text": [
      "Requirement already satisfied: geopy in c:\\python39\\lib\\site-packages (2.2.0)\n",
      "Requirement already satisfied: geographiclib<2,>=1.49 in c:\\python39\\lib\\site-packages (from geopy) (1.52)\n"
     ]
    },
    {
     "name": "stderr",
     "output_type": "stream",
     "text": [
      "WARNING: You are using pip version 20.2.3; however, version 22.2.2 is available.\n",
      "You should consider upgrading via the 'c:\\python39\\python.exe -m pip install --upgrade pip' command.\n"
     ]
    }
   ],
   "source": [
    "!pip install geopy"
   ]
  },
  {
   "cell_type": "code",
   "execution_count": 2,
   "metadata": {},
   "outputs": [
    {
     "name": "stdout",
     "output_type": "stream",
     "text": [
      "279\n"
     ]
    }
   ],
   "source": [
    "import geopy.distance\n",
    "\n",
    "coords_1 = (52.2296756, 21.0122287)\n",
    "coords_2 = (52.406374, 16.9251681)\n",
    "\n",
    "print(round(geopy.distance.geodesic(coords_1, coords_2).km))"
   ]
  },
  {
   "cell_type": "code",
   "execution_count": 3,
   "metadata": {},
   "outputs": [],
   "source": [
    "class Vertex:\n",
    "    \n",
    "    def __init__(self, value, lattitude, longitude):\n",
    "        self.value = value\n",
    "        self.lattitude = lattitude\n",
    "        self.longitude = longitude\n",
    "        self.neighbors = list()\n",
    "        \n",
    "    def add_neighbor(self, new_neighbor):\n",
    "        if new_neighbor not in self.neighbors:\n",
    "            self.neighbors.append(new_neighbor)"
   ]
  },
  {
   "cell_type": "code",
   "execution_count": 4,
   "metadata": {},
   "outputs": [],
   "source": [
    "class Graph:\n",
    "    \n",
    "    def __init__(self):\n",
    "        self.vertices = {}\n",
    "    \n",
    "    def add_vertex(self, vertex):\n",
    "        if isinstance(vertex, Vertex) and vertex.value not in self.vertices:\n",
    "            self.vertices[vertex.value] = vertex\n",
    "        else:\n",
    "            raise Exception(\"Vertex {} already added\".format(vertex.value))\n",
    "            \n",
    "    def is_vertex_valid(self, vertex):\n",
    "        return isinstance(vertex, Vertex) and vertex.value in self.vertices\n",
    "            \n",
    "    def add_edge_between_vertex(self, first, second):\n",
    "        \n",
    "        if self.is_vertex_valid(first) and self.is_vertex_valid(second):\n",
    "            \n",
    "            for key, value in self.vertices.items():\n",
    "                if key == first.value:\n",
    "                    value.add_neighbor(second)\n",
    "                if key == second.value:\n",
    "                    value.add_neighbor(first)\n",
    "            \n",
    "        else: \n",
    "            raise Exception(\"Vertex is not valid\")\n",
    "            \n",
    "    def is_two_vertex_connected(self, first, second):\n",
    "        \n",
    "        if self.is_vertex_valid(first) and self.is_vertex_valid(second):\n",
    "            for n in first.neighbors:\n",
    "                if n.value == second.value:\n",
    "                    return True\n",
    "            return False\n",
    "        else:\n",
    "            raise Exception(\"Vertex is not valid\")\n",
    "            \n",
    "    def calculate_distance_between_vertext(self, first, second):\n",
    "        if self.is_vertex_valid(first) and self.is_vertex_valid(second) and is_two_vertex_connected(first, second):\n",
    "            first_point = (first.latitude, first.longitude)\n",
    "            second_point = (second.latitude, second.longitude)\n",
    "        else:\n",
    "            raise Exception(\"Vertex is not valid\")\n",
    "        \n",
    "        \n",
    "            \n",
    "    def print_graph(self):\n",
    "        for key in sorted(list(self.vertices.keys())):\n",
    "            n = str([val.value for val in self.vertices[key].neighbors])\n",
    "            print(\"{} -> {}\".format(key, n))"
   ]
  },
  {
   "cell_type": "code",
   "execution_count": 5,
   "metadata": {},
   "outputs": [
    {
     "name": "stdout",
     "output_type": "stream",
     "text": [
      "batu -> ['malang', 'jombang']\n",
      "jombang -> ['batu', 'mojokerto']\n",
      "malang -> ['pasuruan', 'batu']\n",
      "mojokerto -> ['pasuruan', 'jombang']\n",
      "pasuruan -> ['malang', 'mojokerto']\n"
     ]
    }
   ],
   "source": [
    "pasuruan = Vertex(\"pasuruan\", -7.7497924, 112.5571699)\n",
    "malang = Vertex(\"malang\", -7.9784695, 112.5617417)\n",
    "batu = Vertex(\"batu\", -7.8806559, 112.5047944)\n",
    "jombang = Vertex(\"jombang\", -7.5607088, 111.9790244)\n",
    "mojokerto = Vertex(\"mojokerto\", -7.5026701, 112.5092722)\n",
    "\n",
    "graph = Graph()\n",
    "\n",
    "graph.add_vertex(pasuruan)\n",
    "graph.add_vertex(malang)\n",
    "graph.add_vertex(batu)\n",
    "graph.add_vertex(jombang)\n",
    "graph.add_vertex(mojokerto)\n",
    "\n",
    "# add edge for pasuruan\n",
    "graph.add_edge_between_vertex(pasuruan, malang)\n",
    "graph.add_edge_between_vertex(pasuruan, mojokerto)\n",
    "\n",
    "# add graph for malang\n",
    "graph.add_edge_between_vertex(malang, batu)\n",
    "\n",
    "# add graph for batu\n",
    "graph.add_edge_between_vertex(batu, jombang)\n",
    "\n",
    "graph.add_edge_between_vertex(mojokerto, jombang)\n",
    "\n",
    "graph.print_graph()"
   ]
  },
  {
   "cell_type": "code",
   "execution_count": 6,
   "metadata": {},
   "outputs": [],
   "source": [
    "# please find shortest path from pasuruan - jombang"
   ]
  },
  {
   "cell_type": "code",
   "execution_count": 7,
   "metadata": {},
   "outputs": [],
   "source": [
    "dict_graph = {\n",
    "    'A': {'B': 2, 'C': 4},\n",
    "    'B': {'A': 2, 'C': 3, 'D':8},\n",
    "    'C': {'A': 4, 'B': 3, 'D': 2, 'E':5},\n",
    "    'D': {'B': 8, 'C': 2, 'E': 11, 'F': 22},\n",
    "    'E': {'C': 5, 'D': 11, 'F': 1},\n",
    "    'F': {'D': 22, 'E': 1},\n",
    "}\n",
    "\n",
    "source = 'A'\n",
    "destination = 'F'\n"
   ]
  },
  {
   "cell_type": "code",
   "execution_count": 15,
   "metadata": {},
   "outputs": [
    {
     "ename": "SyntaxError",
     "evalue": "unmatched ')' (<ipython-input-15-e35f874ba0ac>, line 21)",
     "output_type": "error",
     "traceback": [
      "\u001b[1;36m  File \u001b[1;32m\"<ipython-input-15-e35f874ba0ac>\"\u001b[1;36m, line \u001b[1;32m21\u001b[0m\n\u001b[1;33m    if temp not in visited:)\u001b[0m\n\u001b[1;37m                           ^\u001b[0m\n\u001b[1;31mSyntaxError\u001b[0m\u001b[1;31m:\u001b[0m unmatched ')'\n"
     ]
    }
   ],
   "source": [
    "import sys\n",
    "from heapq import heapify, heappush, heappop\n",
    "\n",
    "def dijkstra_basic(graph, source, destination):\n",
    "    inf = sys.maxsize\n",
    "    node_data = {\n",
    "        'A' : {'cost': inf, 'pred': []},\n",
    "        'B' : {'cost': inf, 'pred': []},\n",
    "        'C' : {'cost': inf, 'pred': []},\n",
    "        'D':  {'cost': inf, 'pred': []},\n",
    "        'E' : {'cost': inf, 'pred': []},\n",
    "        'F' : {'cost': inf, 'pred': []},\n",
    "    }\n",
    "    \n",
    "    node_data[source]['cost'] = 0\n",
    "    \n",
    "    visited = []\n",
    "    temp = source\n",
    "    \n",
    "    for i in range(5):\n",
    "        if temp not in visited:\n",
    "            visited.append(temp)\n",
    "            min_heap = []\n",
    "            for j in graph[temp]:\n",
    "                cost = node_data[temp]['cost'] + graph[temp][j]\n",
    "                print(cost)"
   ]
  },
  {
   "cell_type": "code",
   "execution_count": 14,
   "metadata": {},
   "outputs": [
    {
     "name": "stdout",
     "output_type": "stream",
     "text": [
      "Vertex A -> B -> C -> "
     ]
    }
   ],
   "source": [
    "dijkstra_basic(dict_graph, source, destination)"
   ]
  },
  {
   "cell_type": "code",
   "execution_count": null,
   "metadata": {},
   "outputs": [],
   "source": []
  }
 ],
 "metadata": {
  "kernelspec": {
   "display_name": "Python 3",
   "language": "python",
   "name": "python3"
  },
  "language_info": {
   "codemirror_mode": {
    "name": "ipython",
    "version": 3
   },
   "file_extension": ".py",
   "mimetype": "text/x-python",
   "name": "python",
   "nbconvert_exporter": "python",
   "pygments_lexer": "ipython3",
   "version": "3.9.0"
  },
  "vscode": {
   "interpreter": {
    "hash": "81794d4967e6c3204c66dcd87b604927b115b27c00565d3d43f05ba2f3a2cb0d"
   }
  }
 },
 "nbformat": 4,
 "nbformat_minor": 2
}
