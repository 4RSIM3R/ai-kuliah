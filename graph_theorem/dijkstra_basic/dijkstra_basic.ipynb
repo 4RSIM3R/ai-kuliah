{
 "cells": [
  {
   "cell_type": "code",
   "execution_count": 2,
   "metadata": {},
   "outputs": [
    {
     "name": "stdout",
     "output_type": "stream",
     "text": [
      "Dijkstra Implementation In Python\n"
     ]
    }
   ],
   "source": [
    "print('Dijkstra Implementation In Python')"
   ]
  },
  {
   "cell_type": "code",
   "execution_count": 3,
   "metadata": {},
   "outputs": [
    {
     "name": "stderr",
     "output_type": "stream",
     "text": [
      "WARNING: You are using pip version 20.2.3; however, version 22.2.2 is available.\n",
      "You should consider upgrading via the 'c:\\python39\\python.exe -m pip install --upgrade pip' command.\n"
     ]
    },
    {
     "name": "stdout",
     "output_type": "stream",
     "text": [
      "Requirement already satisfied: numpy in c:\\users\\ilzam\\appdata\\roaming\\python\\python39\\site-packages (1.19.5)\n"
     ]
    }
   ],
   "source": [
    "!pip install numpy"
   ]
  },
  {
   "cell_type": "code",
   "execution_count": 20,
   "metadata": {},
   "outputs": [],
   "source": [
    "from numpy import Inf\n",
    "import heapq\n",
    "\n",
    "def naive_dijkstra(graph, root):\n",
    "\n",
    "    n = len(graph)\n",
    "\n",
    "    # create a list of distance\n",
    "    distance = [Inf for _ in range(n)]\n",
    "    \n",
    "    # set the root distance to zero\n",
    "    distance[root] = 0\n",
    "\n",
    "    # initialize the list of visited\n",
    "    visited = [False for _ in range(n)]\n",
    "\n",
    "    for _ in range(n):\n",
    "\n",
    "        u = -1\n",
    "\n",
    "        for i in range(n):\n",
    "\n",
    "            if not visited[i] and (u == -1 or distance[i] < distance[u]):\n",
    "                u = i\n",
    "\n",
    "        if distance[u] == Inf:\n",
    "            break\n",
    "\n",
    "        visited[u] = True\n",
    "\n",
    "        for v, l in graph[u]:\n",
    "            if distance[u] + l < distance[v]:\n",
    "                distance[v] = distance[u] + l\n",
    "\n",
    "    return distance\n",
    "\n"
   ]
  },
  {
   "cell_type": "code",
   "execution_count": 21,
   "metadata": {},
   "outputs": [
    {
     "data": {
      "text/plain": [
       "[0, 1, 3, 4, 5]"
      ]
     },
     "execution_count": 21,
     "metadata": {},
     "output_type": "execute_result"
    }
   ],
   "source": [
    "# create our graph using an adjacency list representation\n",
    "# each \"node\" in our list should be a node name and a distance\n",
    "graph = {\n",
    "    0: [(1, 1)],\n",
    "    1: [(0, 1), (2, 2), (3, 3)],\n",
    "    2: [(1, 2), (3, 1), (4, 5)],\n",
    "    3: [(1, 3), (2, 1), (4, 1)],\n",
    "    4: [(2, 5), (3, 1)]\n",
    "}\n",
    "\n",
    "naive_dijkstra(graph, 0)"
   ]
  }
 ],
 "metadata": {
  "kernelspec": {
   "display_name": "Python 3",
   "language": "python",
   "name": "python3"
  },
  "language_info": {
   "codemirror_mode": {
    "name": "ipython",
    "version": 3
   },
   "file_extension": ".py",
   "mimetype": "text/x-python",
   "name": "python",
   "nbconvert_exporter": "python",
   "pygments_lexer": "ipython3",
   "version": "3.9.0"
  },
  "vscode": {
   "interpreter": {
    "hash": "81794d4967e6c3204c66dcd87b604927b115b27c00565d3d43f05ba2f3a2cb0d"
   }
  }
 },
 "nbformat": 4,
 "nbformat_minor": 2
}
