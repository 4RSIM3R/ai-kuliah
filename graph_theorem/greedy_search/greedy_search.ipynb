{
 "cells": [
  {
   "cell_type": "code",
   "execution_count": 3,
   "metadata": {},
   "outputs": [
    {
     "name": "stdout",
     "output_type": "stream",
     "text": [
      "Greedy Search Implementation\n"
     ]
    }
   ],
   "source": [
    "print('Greedy Search Implementation')"
   ]
  },
  {
   "cell_type": "code",
   "execution_count": 4,
   "metadata": {},
   "outputs": [
    {
     "data": {
      "text/plain": [
       "{'A': {'C': 4, 'G': 9},\n",
       " 'G': {'E': 6},\n",
       " 'C': {'D': 6, 'H': 12},\n",
       " 'D': {'E': 7},\n",
       " 'H': {'F': 15},\n",
       " 'E': {'F': 8},\n",
       " 'F': {'B': 5}}"
      ]
     },
     "execution_count": 4,
     "metadata": {},
     "output_type": "execute_result"
    }
   ],
   "source": [
    "DAG = {\n",
    "    'A': {'C': 4, 'G': 9},\n",
    "    'G': {'E': 6},\n",
    "    'C': {'D': 6, 'H': 12},\n",
    "    'D': {'E': 7},\n",
    "    'H': {'F': 15},\n",
    "    'E': {'F': 8},\n",
    "    'F': {'B': 5}\n",
    "}\n",
    "DAG"
   ]
  },
  {
   "cell_type": "code",
   "execution_count": 5,
   "metadata": {},
   "outputs": [],
   "source": [
    "def shortest_path(graph, source, dest):\n",
    "    result = []\n",
    "    result.append(source)\n",
    "\n",
    "    while dest not in result:\n",
    "        current_node = result[-1]\n",
    "        min_cost_neighbor = min(graph[current_node].values())\n",
    "        for node, weight in graph[current_node].items():\n",
    "            if weight == min_cost_neighbor:\n",
    "                result.append(node)\n",
    "\n",
    "    return result\n",
    "\n"
   ]
  },
  {
   "cell_type": "code",
   "execution_count": 6,
   "metadata": {},
   "outputs": [
    {
     "data": {
      "text/plain": [
       "['A', 'C', 'D', 'E', 'F']"
      ]
     },
     "execution_count": 6,
     "metadata": {},
     "output_type": "execute_result"
    }
   ],
   "source": [
    "shortest_path(DAG, 'A', 'F')"
   ]
  },
  {
   "cell_type": "code",
   "execution_count": 10,
   "metadata": {},
   "outputs": [
    {
     "data": {
      "text/plain": [
       "{'Arad': {'Sibiu': 140, 'Zerind': 75, 'Timisoara': 118},\n",
       " 'Zerind': {'Oradea': 71},\n",
       " 'Oradea': {'Sibiu': 151},\n",
       " 'Sibiu': {'Fagaras': 99, 'Rimnicu': 80},\n",
       " 'Timisoara': {'Lugoj': 111},\n",
       " 'Lugoj': {'Mehadia': 70},\n",
       " 'Mehadia': {'Drobeta': 75},\n",
       " 'Drobeta': {'Craiova': 120},\n",
       " 'Craiova': {'Rimnicu': 146, 'Pitesti': 138},\n",
       " 'Rimnicu': {'Pitesti': 97},\n",
       " 'Fagaras': {'Bucharest': 211},\n",
       " 'Pitesti': {'Bucharest': 101},\n",
       " 'Bucharest': {'Giurgiu': 90, 'Urziceni': 85},\n",
       " 'Giurgiu': {},\n",
       " 'Urziceni': {'Vaslui': 142, 'Hirsova': 98},\n",
       " 'Hirsova': {'Eforie': 86},\n",
       " 'Eforie': {},\n",
       " 'Vaslui': {'Iasi': 92},\n",
       " 'Iasi': {'Neamt': 87},\n",
       " 'Neamt': {}}"
      ]
     },
     "execution_count": 10,
     "metadata": {},
     "output_type": "execute_result"
    }
   ],
   "source": [
    "my_map = {\n",
    "    'Arad': {'Sibiu': 140, 'Zerind': 75, 'Timisoara': 118},\n",
    "    'Zerind': {'Oradea': 71},\n",
    "    'Oradea': {'Sibiu': 151},\n",
    "    'Sibiu': {'Fagaras': 99, 'Rimnicu': 80},\n",
    "    'Timisoara': {'Lugoj': 111},\n",
    "    'Lugoj': {'Mehadia': 70},\n",
    "    'Mehadia': {'Drobeta': 75},\n",
    "    'Drobeta': {'Craiova': 120},\n",
    "    'Craiova': {'Rimnicu': 146, 'Pitesti': 138},\n",
    "    'Rimnicu': {'Pitesti': 97},\n",
    "    'Fagaras': {'Bucharest': 211},\n",
    "    'Pitesti': {'Bucharest': 101},\n",
    "    'Bucharest': {'Giurgiu': 90, 'Urziceni': 85},\n",
    "    'Giurgiu': {},\n",
    "    'Urziceni': {'Vaslui': 142, 'Hirsova': 98},\n",
    "    'Hirsova': {'Eforie': 86},\n",
    "    'Eforie': {},\n",
    "    'Vaslui': {'Iasi': 92, },\n",
    "    'Iasi': {'Neamt': 87},\n",
    "    'Neamt': {}\n",
    "}\n",
    "\n",
    "my_map\n"
   ]
  },
  {
   "cell_type": "code",
   "execution_count": 11,
   "metadata": {},
   "outputs": [
    {
     "data": {
      "text/plain": [
       "['Arad', 'Zerind', 'Oradea', 'Sibiu', 'Rimnicu', 'Pitesti', 'Bucharest']"
      ]
     },
     "execution_count": 11,
     "metadata": {},
     "output_type": "execute_result"
    }
   ],
   "source": [
    "shortest_path(my_map, 'Arad', 'Bucharest')"
   ]
  }
 ],
 "metadata": {
  "kernelspec": {
   "display_name": "Python 3.9.0 64-bit",
   "language": "python",
   "name": "python3"
  },
  "language_info": {
   "codemirror_mode": {
    "name": "ipython",
    "version": 3
   },
   "file_extension": ".py",
   "mimetype": "text/x-python",
   "name": "python",
   "nbconvert_exporter": "python",
   "pygments_lexer": "ipython3",
   "version": "3.9.0"
  },
  "orig_nbformat": 4,
  "vscode": {
   "interpreter": {
    "hash": "81794d4967e6c3204c66dcd87b604927b115b27c00565d3d43f05ba2f3a2cb0d"
   }
  }
 },
 "nbformat": 4,
 "nbformat_minor": 2
}
