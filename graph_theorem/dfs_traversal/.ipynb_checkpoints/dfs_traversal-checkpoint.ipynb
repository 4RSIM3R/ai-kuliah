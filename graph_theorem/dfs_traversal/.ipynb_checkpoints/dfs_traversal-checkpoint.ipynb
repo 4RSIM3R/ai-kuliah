{
 "cells": [
  {
   "cell_type": "code",
   "execution_count": 3,
   "metadata": {},
   "outputs": [
    {
     "name": "stdout",
     "output_type": "stream",
     "text": [
      "DFS Traversal implementation in graph\n"
     ]
    }
   ],
   "source": [
    "print('DFS Traversal implementation in graph')"
   ]
  },
  {
   "cell_type": "code",
   "execution_count": 4,
   "metadata": {},
   "outputs": [
    {
     "name": "stdout",
     "output_type": "stream",
     "text": [
      "Requirement already satisfied: networkx in c:\\python39\\lib\\site-packages (2.8.6)\n",
      "Requirement already satisfied: matplotlib in c:\\python39\\lib\\site-packages (3.4.1)\n",
      "Requirement already satisfied: pyparsing>=2.2.1 in c:\\users\\ilzam\\appdata\\roaming\\python\\python39\\site-packages (from matplotlib) (2.4.7)\n",
      "Requirement already satisfied: kiwisolver>=1.0.1 in c:\\python39\\lib\\site-packages (from matplotlib) (1.3.1)\n",
      "Requirement already satisfied: python-dateutil>=2.7 in c:\\users\\ilzam\\appdata\\roaming\\python\\python39\\site-packages (from matplotlib) (2.8.1)\n",
      "Requirement already satisfied: numpy>=1.16 in c:\\users\\ilzam\\appdata\\roaming\\python\\python39\\site-packages (from matplotlib) (1.19.5)\n",
      "Requirement already satisfied: pillow>=6.2.0 in c:\\python39\\lib\\site-packages (from matplotlib) (8.2.0)\n",
      "Requirement already satisfied: cycler>=0.10 in c:\\python39\\lib\\site-packages (from matplotlib) (0.10.0)\n",
      "Requirement already satisfied: six>=1.5 in c:\\users\\ilzam\\appdata\\roaming\\python\\python39\\site-packages (from python-dateutil>=2.7->matplotlib) (1.15.0)\n",
      "Note: you may need to restart the kernel to use updated packages.\n"
     ]
    },
    {
     "name": "stderr",
     "output_type": "stream",
     "text": [
      "WARNING: You are using pip version 20.2.3; however, version 22.2.2 is available.\n",
      "You should consider upgrading via the 'c:\\Python39\\python.exe -m pip install --upgrade pip' command.\n"
     ]
    }
   ],
   "source": [
    "%pip install networkx matplotlib"
   ]
  },
  {
   "cell_type": "code",
   "execution_count": 5,
   "metadata": {},
   "outputs": [],
   "source": [
    "# check the 'bfs_traversal' for explanation of this part\n",
    "second_graph = {\n",
    "    'A': ['B', 'C'],\n",
    "    'B': ['D', 'E'],\n",
    "    'C': ['F'],\n",
    "    'D': [],\n",
    "    'E': ['F'],\n",
    "    'F': ['H'],\n",
    "    'H': ['G'], # 'H' -> 'G'\n",
    "    'G': ['H'] # 'G' -> 'H'\n",
    "}"
   ]
  },
  {
   "cell_type": "code",
   "execution_count": 6,
   "metadata": {},
   "outputs": [
    {
     "data": {
      "image/png": "[encoded data removed]",
      "text/plain": [
       "<Figure size 432x288 with 1 Axes>"
      ]
     },
     "metadata": {},
     "output_type": "display_data"
    }
   ],
   "source": [
    "# check the 'bfs_traversal' for explanation of this part\n",
    "import networkx as nx\n",
    "import matplotlib.pyplot as plt\n",
    "\n",
    "G = nx.Graph()\n",
    "\n",
    "display = []\n",
    "\n",
    "for key in second_graph.keys():\n",
    "    for value in second_graph[key]:\n",
    "        display.append([key, value])\n",
    "        \n",
    "G.add_edges_from(display)\n",
    "nx.draw_networkx(G)\n",
    "plt.show()"
   ]
  },
  {
   "cell_type": "code",
   "execution_count": 12,
   "metadata": {},
   "outputs": [],
   "source": [
    "# the 'dfs' is quite easier to understand than 'bfs', but how it works ?\n",
    "# here, we have 3 parameters, first is 'visited', 'graph' and 'node'\n",
    "# as we mentioned before in 'bfs' section. is an array that will accomodate the 'visited node', ie : if first we goto 'A' node\n",
    "# 'graph', is the 'dict' that represents the entire graph\n",
    "# 'node' is starting node that we can to traverse\n",
    "\n",
    "def dfs_traversal(visited, graph, node):\n",
    "    if node not in visited: # if the node is not visited, ie : in first loop in will be 'A'\n",
    "        print(node, end = ' -> ') # print the current node\n",
    "        visited.append(node) # mark is as visited\n",
    "        for neighbor in graph[node]: # lookup at the current node neighbor\n",
    "            dfs_traversal(visited, graph, neighbor) # recursively call the function to re-traverse the neighbor node"
   ]
  },
  {
   "cell_type": "code",
   "execution_count": 13,
   "metadata": {},
   "outputs": [
    {
     "name": "stdout",
     "output_type": "stream",
     "text": [
      "A -> B -> D -> E -> F -> H -> G -> C -> "
     ]
    }
   ],
   "source": [
    "visited = []\n",
    "dfs_traversal(visited, second_graph, 'A')"
   ]
  }
 ],
 "metadata": {
  "kernelspec": {
   "display_name": "Python 3",
   "language": "python",
   "name": "python3"
  },
  "language_info": {
   "codemirror_mode": {
    "name": "ipython",
    "version": 3
   },
   "file_extension": ".py",
   "mimetype": "text/x-python",
   "name": "python",
   "nbconvert_exporter": "python",
   "pygments_lexer": "ipython3",
   "version": "3.9.0"
  },
  "vscode": {
   "interpreter": {
    "hash": "81794d4967e6c3204c66dcd87b604927b115b27c00565d3d43f05ba2f3a2cb0d"
   }
  }
 },
 "nbformat": 4,
 "nbformat_minor": 2
}
