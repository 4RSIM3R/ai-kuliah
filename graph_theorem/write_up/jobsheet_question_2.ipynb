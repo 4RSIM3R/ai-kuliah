{
 "cells": [
  {
   "cell_type": "code",
   "execution_count": 1,
   "metadata": {},
   "outputs": [
    {
     "name": "stdout",
     "output_type": "stream",
     "text": [
      "Write up of question number 2 in graph theorem jobsheet\n"
     ]
    }
   ],
   "source": [
    "print('Write up of question number 2 in graph theorem jobsheet')"
   ]
  },
  {
   "cell_type": "code",
   "execution_count": 2,
   "metadata": {},
   "outputs": [
    {
     "name": "stdout",
     "output_type": "stream",
     "text": [
      "Requirement already satisfied: networkx in c:\\python39\\lib\\site-packages (2.8.6)\n",
      "Requirement already satisfied: matplotlib in c:\\python39\\lib\\site-packages (3.4.1)\n",
      "Requirement already satisfied: pillow>=6.2.0 in c:\\python39\\lib\\site-packages (from matplotlib) (8.2.0)\n",
      "Requirement already satisfied: numpy>=1.16 in c:\\users\\ilzam\\appdata\\roaming\\python\\python39\\site-packages (from matplotlib) (1.19.5)\n",
      "Requirement already satisfied: cycler>=0.10 in c:\\python39\\lib\\site-packages (from matplotlib) (0.10.0)\n",
      "Requirement already satisfied: pyparsing>=2.2.1 in c:\\users\\ilzam\\appdata\\roaming\\python\\python39\\site-packages (from matplotlib) (2.4.7)\n",
      "Requirement already satisfied: kiwisolver>=1.0.1 in c:\\python39\\lib\\site-packages (from matplotlib) (1.3.1)\n",
      "Requirement already satisfied: python-dateutil>=2.7 in c:\\users\\ilzam\\appdata\\roaming\\python\\python39\\site-packages (from matplotlib) (2.8.1)\n",
      "Requirement already satisfied: six in c:\\users\\ilzam\\appdata\\roaming\\python\\python39\\site-packages (from cycler>=0.10->matplotlib) (1.15.0)\n",
      "Note: you may need to restart the kernel to use updated packages.\n"
     ]
    },
    {
     "name": "stderr",
     "output_type": "stream",
     "text": [
      "WARNING: You are using pip version 20.2.3; however, version 22.2.2 is available.\n",
      "You should consider upgrading via the 'C:\\Python39\\python.exe -m pip install --upgrade pip' command.\n"
     ]
    }
   ],
   "source": [
    "# to install another dependency use can use pip, ie: \n",
    "# dont forget to add '%' in front of command\n",
    "\n",
    "%pip install networkx matplotlib"
   ]
  },
  {
   "cell_type": "code",
   "execution_count": 3,
   "metadata": {},
   "outputs": [],
   "source": [
    "first_graph = {\n",
    "    \"A\": [\"B\"],\n",
    "    \"B\": [\"A\", \"F\", \"G\"],\n",
    "    \"C\": [\"G\", \"D\"],\n",
    "    \"D\": [\"C\", \"H\"],\n",
    "    \"E\": [\"F\"],\n",
    "    \"F\": [\"B\", \"E\"],\n",
    "    \"G\": [\"B\", \"C\"],\n",
    "    \"H\": [\"D\"]\n",
    "}"
   ]
  },
  {
   "cell_type": "code",
   "execution_count": 4,
   "metadata": {},
   "outputs": [
    {
     "data": {
      "image/png": "[encoded data removed]",
      "text/plain": [
       "<Figure size 432x288 with 1 Axes>"
      ]
     },
     "metadata": {},
     "output_type": "display_data"
    }
   ],
   "source": [
    "# function to visualize the graph, we use networkx (extenstion of matplotlib)\n",
    "# for more informartion you can check it here : https://www.geeksforgeeks.org/visualize-graphs-in-python/\n",
    "\n",
    "import networkx as nx\n",
    "import matplotlib.pyplot as plt\n",
    "\n",
    "G = nx.Graph()\n",
    "\n",
    "display = []\n",
    "\n",
    "for key in first_graph.keys():\n",
    "    for value in first_graph[key]:\n",
    "        display.append([key, value])\n",
    "        \n",
    "G.add_edges_from(display)\n",
    "nx.draw_networkx(G)\n",
    "plt.show()"
   ]
  },
  {
   "cell_type": "code",
   "execution_count": 5,
   "metadata": {},
   "outputs": [],
   "source": [
    "# so basically in this function we have 3 parameters, firts is 'visited', 'graph' and the 'node'\n",
    "# 1. 'visited' is an array that will accomodate the 'visited node', ie : if first we goto 'A' node\n",
    "# and then 'append' it to 'visited', so next time, the function will not print / processed again the 'A' node\n",
    "# 2. 'graph', is the 'dict' that represents the entire graph\n",
    "# 3. 'node' is starting node that we can to traverse\n",
    "# for more explanation you can check the following references here : \n",
    "# https://www.hackerearth.com/practice/algorithms/graphs/breadth-first-search/tutorial/\n",
    "\n",
    "visited = []\n",
    "queue = []\n",
    "\n",
    "def bfs_traversal(visited, graph, node):\n",
    "    visited.append(node) # add 'node' to visited, that means the 'A' node mark as visited\n",
    "    queue.append(node) # add 'node' to queue, that means the 'A' node will being processed\n",
    "    \n",
    "    while queue: # if the 'queue' is not empty\n",
    "        current = queue.pop(0) # we will get and remove the first element of 'queue', ie : in first loop it will be 'A'\n",
    "        print(current, end = \" \") # print it here\n",
    "        \n",
    "        for neighbor in graph[current]: # traverse the 'current', and lookup their neighbors\n",
    "            if neighbor not in visited: # if the neighbor is not already in 'visited'\n",
    "                visited.append(neighbor) # mark the neighbor as visited\n",
    "                queue.append(neighbor) # add the neighbor in 'queue' to processed next"
   ]
  },
  {
   "cell_type": "code",
   "execution_count": 6,
   "metadata": {},
   "outputs": [
    {
     "name": "stdout",
     "output_type": "stream",
     "text": [
      "A B F G E C D H "
     ]
    }
   ],
   "source": [
    "bfs_traversal(visited, first_graph, 'A')"
   ]
  },
  {
   "cell_type": "code",
   "execution_count": 7,
   "metadata": {},
   "outputs": [],
   "source": [
    "# the 'dfs' is quite easier to understand than 'bfs', but how it works ?\n",
    "# here, we have 3 parameters, first is 'visited', 'graph' and 'node'\n",
    "# as we mentioned before in 'bfs' section. is an array that will accomodate the 'visited node', ie : if first we goto 'A' node\n",
    "# 'graph', is the 'dict' that represents the entire graph\n",
    "# 'node' is starting node that we can to traverse\n",
    "\n",
    "visited = []\n",
    "\n",
    "def dfs_traversal(visited, graph, node):\n",
    "    if node not in visited: # if the node is not visited, ie : in first loop in will be 'A'\n",
    "        print(node, end = ' -> ') # print the current node\n",
    "        visited.append(node) # mark is as visited\n",
    "        for neighbor in graph[node]: # lookup at the current node neighbor\n",
    "            dfs_traversal(visited, graph, neighbor) # recursively call the function to re-traverse the neighbor node"
   ]
  },
  {
   "cell_type": "code",
   "execution_count": 8,
   "metadata": {},
   "outputs": [
    {
     "name": "stdout",
     "output_type": "stream",
     "text": [
      "A -> B -> F -> E -> G -> C -> D -> H -> "
     ]
    }
   ],
   "source": [
    "dfs_traversal(visited, first_graph, 'A')"
   ]
  },
  {
   "cell_type": "code",
   "execution_count": null,
   "metadata": {},
   "outputs": [],
   "source": [
    "# TLDR; In my opinion DFS appro"
   ]
  }
 ],
 "metadata": {
  "kernelspec": {
   "display_name": "Python 3",
   "language": "python",
   "name": "python3"
  },
  "language_info": {
   "codemirror_mode": {
    "name": "ipython",
    "version": 3
   },
   "file_extension": ".py",
   "mimetype": "text/x-python",
   "name": "python",
   "nbconvert_exporter": "python",
   "pygments_lexer": "ipython3",
   "version": "3.9.0"
  },
  "vscode": {
   "interpreter": {
    "hash": "81794d4967e6c3204c66dcd87b604927b115b27c00565d3d43f05ba2f3a2cb0d"
   }
  }
 },
 "nbformat": 4,
 "nbformat_minor": 2
}
