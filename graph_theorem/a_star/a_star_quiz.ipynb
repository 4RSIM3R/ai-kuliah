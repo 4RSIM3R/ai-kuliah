{
 "cells": [
  {
   "cell_type": "code",
   "execution_count": 86,
   "metadata": {},
   "outputs": [
    {
     "name": "stdout",
     "output_type": "stream",
     "text": [
      "A star in quiz\n"
     ]
    }
   ],
   "source": [
    "print('A star in quiz')"
   ]
  },
  {
   "cell_type": "code",
   "execution_count": 87,
   "metadata": {},
   "outputs": [],
   "source": [
    "def display_graph(graph):\n",
    "    \"\"\"Display each node with it's neighbours and costs\"\"\"\n",
    "    \n",
    "    # Repeat for each node in the graph\n",
    "    for node, neighbours in graph.items():\n",
    "        print(f\"Node: {node}\")\n",
    "        print(\"Neighbours:\", end=\" \")\n",
    "\n",
    "        # Repeat for each neighbour node (n_node) in the neighbours list\n",
    "        for n_node in neighbours:\n",
    "            print(f\"{n_node}:{neighbours[n_node]}\", end = \" \")\n",
    "        print(\"\\n\")\n",
    "        \n",
    "        \n",
    "def display_list(adjacency_list):\n",
    "    \"\"\"Display a list of nodes with their closest neighbour and scores\"\"\"\n",
    "\n",
    "    print(\"   (g-score, f-score, previous)\")\n",
    "\n",
    "    # Repeat for each node in the given adjacency list\n",
    "    for node, neighbours in adjacency_list.items():\n",
    "        print(f\"{node}: {neighbours}\")\n",
    "    print()"
   ]
  },
  {
   "cell_type": "code",
   "execution_count": 88,
   "metadata": {},
   "outputs": [],
   "source": [
    "def map_sld_node(node):\n",
    "\n",
    "    sld = {\n",
    "        'Arad': 66,\n",
    "        'Zerind': 74,\n",
    "        'Oradea': 80,\n",
    "        'Sibiu': 53,\n",
    "        'Timisoara': 29,\n",
    "        'Lugoj': 44,\n",
    "        'Mehadia': 41,\n",
    "        'Drobeta': 42,\n",
    "        'Craiova': 60,\n",
    "        'Rimnicu': 93,\n",
    "        'Fagaras': 76,\n",
    "        'Pitesti': 100,\n",
    "        'Bucharest': 51,\n",
    "        'Giurgiu': 77,\n",
    "        'Urziceni': 80,\n",
    "        'Hirsova': 99,\n",
    "        'Eforie': 61,\n",
    "        'Vaslui': 0,\n",
    "        'Iasi': 26,\n",
    "        'Neamt': 34,\n",
    "    }\n",
    "\n",
    "    return sld[node]\n"
   ]
  },
  {
   "cell_type": "code",
   "execution_count": 89,
   "metadata": {},
   "outputs": [],
   "source": [
    "def display_shortest_path(visited, start_node, target_node):\n",
    "    \"\"\"Display the shortest path from start node to target node\"\"\"\n",
    "\n",
    "    # Set the current node and the path as the target node\n",
    "    current_node = target_node\n",
    "    path = target_node\n",
    "\n",
    "    # Repeat until the current node reaches the start node\n",
    "    while current_node != start_node:\n",
    "        # Add the previous node to the start of the path\n",
    "        previous_node = visited[current_node][PREVIOUS]\n",
    "        path = previous_node + \" -> \" + path\n",
    "\n",
    "        # Update the current node to be the previous node\n",
    "        current_node = previous_node\n",
    "\n",
    "    # Testing\n",
    "    cost = visited[target_node][G_SCORE]\n",
    "    print(f\"The shortest path from {start_node} to {target_node} is:\")\n",
    "    print(f\"Path: {path}\")\n",
    "    print(f\"Cost: {cost}\")"
   ]
  },
  {
   "cell_type": "code",
   "execution_count": 90,
   "metadata": {},
   "outputs": [],
   "source": [
    "import sys\n",
    "\n",
    "G_SCORE = 0\n",
    "F_SCORE = 1\n",
    "PREVIOUS = 2\n",
    "\n",
    "def get_minimum_node(unvisited):\n",
    "\n",
    "    lowest_key = None\n",
    "    lowest_value = sys.maxsize\n",
    "\n",
    "    for node in unvisited.items():\n",
    "        current_f_score = node[1][F_SCORE]\n",
    "\n",
    "        if current_f_score < lowest_value:\n",
    "            lowest_value = current_f_score\n",
    "            lowest_key = node[0]\n",
    "\n",
    "    return lowest_key\n",
    "\n",
    "def a_star(graph, start, end):\n",
    "\n",
    "    visited = {}\n",
    "    unvisited = {}\n",
    "\n",
    "    for node in graph:\n",
    "        unvisited[node] = [sys.maxsize, sys.maxsize, None]\n",
    "\n",
    "    unvisited[start] = [0, F_SCORE, None]\n",
    "\n",
    "    finished = False\n",
    "\n",
    "    while finished == False:\n",
    "\n",
    "        if len(unvisited) == 0:\n",
    "            finished = True\n",
    "        else:\n",
    "            current_node = get_minimum_node(unvisited)\n",
    "            \n",
    "            if current_node == end:\n",
    "                finished = True\n",
    "                visited[current_node] = unvisited[current_node]\n",
    "            else: \n",
    "                neighbours = graph[current_node]\n",
    "\n",
    "                for node in neighbours:\n",
    "                    \n",
    "                    if node not in visited:\n",
    "\n",
    "                        new_g_score = unvisited[current_node][G_SCORE] + neighbours[node]\n",
    "                        if new_g_score < unvisited[node][G_SCORE]:\n",
    "                            unvisited[node][G_SCORE] = new_g_score\n",
    "                            unvisited[node][F_SCORE] = new_g_score + map_sld_node(current_node)\n",
    "                            unvisited[node][PREVIOUS] = current_node\n",
    "            \n",
    "\n",
    "                visited[current_node] = unvisited[current_node]\n",
    "\n",
    "                del unvisited[current_node]\n",
    "\n",
    "\n",
    "\n",
    "                \n",
    "    display_list(visited)\n",
    "    return visited"
   ]
  },
  {
   "cell_type": "code",
   "execution_count": 91,
   "metadata": {},
   "outputs": [
    {
     "data": {
      "text/plain": [
       "{'Arad': {'Sibiu': 140, 'Zerind': 75, 'Timisoara': 118},\n",
       " 'Zerind': {'Arad': 75, 'Oradea': 71},\n",
       " 'Oradea': {'Zerind': 71, 'Sibiu': 151},\n",
       " 'Sibiu': {'Arad': 140, 'Oradea': 151, 'Fagaras': 99, 'Rimnicu': 80},\n",
       " 'Timisoara': {'Arad': 118, 'Lugoj': 111},\n",
       " 'Lugoj': {'Timisoara': 111, 'Mehadia': 70},\n",
       " 'Mehadia': {'Lugoj': 70, 'Drobeta': 75},\n",
       " 'Drobeta': {'Mehadia': 75, 'Craiova': 120},\n",
       " 'Craiova': {'Drobeta': 120, 'Rimnicu': 146, 'Pitesti': 138},\n",
       " 'Rimnicu': {'Sibiu': 80, 'Craiova': 146, 'Pitesti': 97},\n",
       " 'Fagaras': {'Sibiu': 99, 'Bucharest': 211},\n",
       " 'Pitesti': {'Rimnicu': 97, 'Craiova': 138, 'Bucharest': 101},\n",
       " 'Bucharest': {'Fagaras': 211, 'Pitesti': 101, 'Giurgiu': 90, 'Urziceni': 85},\n",
       " 'Giurgiu': {'Bucharest': 90},\n",
       " 'Urziceni': {'Bucharest': 85, 'Vaslui': 142, 'Hirsova': 98},\n",
       " 'Hirsova': {'Urziceni': 98, 'Eforie': 86},\n",
       " 'Eforie': {'Hirsova': 86},\n",
       " 'Vaslui': {'Iasi': 92, 'Urziceni': 142},\n",
       " 'Iasi': {'Vaslui': 92, 'Neamt': 87},\n",
       " 'Neamt': {'Iasi': 87}}"
      ]
     },
     "execution_count": 91,
     "metadata": {},
     "output_type": "execute_result"
    }
   ],
   "source": [
    "my_map = {\n",
    "    'Arad'  : {'Sibiu': 140, 'Zerind': 75, 'Timisoara': 118},\n",
    "    'Zerind': {'Arad': 75, 'Oradea': 71},\n",
    "    'Oradea': {'Zerind': 71, 'Sibiu': 151},\n",
    "    'Sibiu': {'Arad': 140, 'Oradea': 151, 'Fagaras': 99, 'Rimnicu': 80},\n",
    "    'Timisoara': {'Arad': 118, 'Lugoj': 111},\n",
    "    'Lugoj': {'Timisoara': 111, 'Mehadia': 70},\n",
    "    'Mehadia': {'Lugoj': 70, 'Drobeta': 75},\n",
    "    'Drobeta': {'Mehadia': 75, 'Craiova': 120},\n",
    "    'Craiova': {'Drobeta': 120, 'Rimnicu': 146, 'Pitesti': 138},\n",
    "    'Rimnicu': {'Sibiu': 80, 'Craiova': 146, 'Pitesti': 97},\n",
    "    'Fagaras': {'Sibiu': 99, 'Bucharest': 211},\n",
    "    'Pitesti': {'Rimnicu': 97, 'Craiova': 138, 'Bucharest': 101},\n",
    "    'Bucharest': {'Fagaras': 211, 'Pitesti': 101, 'Giurgiu': 90, 'Urziceni': 85},\n",
    "    'Giurgiu': {'Bucharest': 90},\n",
    "    'Urziceni': {'Bucharest': 85, 'Vaslui': 142, 'Hirsova': 98},\n",
    "    'Hirsova': {'Urziceni': 98, 'Eforie': 86},\n",
    "    'Eforie': {'Hirsova': 86},\n",
    "    'Vaslui': {'Iasi': 92, 'Urziceni': 142},\n",
    "    'Iasi': {'Vaslui': 92, 'Neamt': 87},\n",
    "    'Neamt': {'Iasi': 87}\n",
    "}\n",
    "\n",
    "my_map"
   ]
  },
  {
   "cell_type": "code",
   "execution_count": 92,
   "metadata": {},
   "outputs": [
    {
     "name": "stdout",
     "output_type": "stream",
     "text": [
      "   (g-score, f-score, previous)\n",
      "Arad: [0, 1, None]\n",
      "Zerind: [75, 141, 'Arad']\n",
      "Timisoara: [118, 184, 'Arad']\n",
      "Sibiu: [140, 206, 'Arad']\n",
      "Oradea: [146, 220, 'Zerind']\n",
      "Lugoj: [229, 258, 'Timisoara']\n",
      "Rimnicu: [220, 273, 'Sibiu']\n",
      "Fagaras: [239, 292, 'Sibiu']\n",
      "Mehadia: [299, 343, 'Lugoj']\n",
      "Pitesti: [317, 410, 'Rimnicu']\n",
      "Drobeta: [374, 415, 'Mehadia']\n",
      "Craiova: [366, 459, 'Rimnicu']\n",
      "Bucharest: [418, 518, 'Pitesti']\n",
      "\n",
      "The shortest path from Arad to Bucharest is:\n",
      "Path: Arad -> Sibiu -> Rimnicu -> Pitesti -> Bucharest\n",
      "Cost: 418\n"
     ]
    }
   ],
   "source": [
    "visited = a_star(my_map, \"Arad\", \"Bucharest\")\n",
    "display_shortest_path(visited, \"Arad\", \"Bucharest\")"
   ]
  },
  {
   "cell_type": "code",
   "execution_count": 93,
   "metadata": {},
   "outputs": [
    {
     "data": {
      "text/plain": [
       "66"
      ]
     },
     "execution_count": 93,
     "metadata": {},
     "output_type": "execute_result"
    }
   ],
   "source": [
    "map_sld_node(\"Arad\")"
   ]
  }
 ],
 "metadata": {
  "kernelspec": {
   "display_name": "Python 3.9.0 64-bit",
   "language": "python",
   "name": "python3"
  },
  "language_info": {
   "codemirror_mode": {
    "name": "ipython",
    "version": 3
   },
   "file_extension": ".py",
   "mimetype": "text/x-python",
   "name": "python",
   "nbconvert_exporter": "python",
   "pygments_lexer": "ipython3",
   "version": "3.9.0"
  },
  "orig_nbformat": 4,
  "vscode": {
   "interpreter": {
    "hash": "81794d4967e6c3204c66dcd87b604927b115b27c00565d3d43f05ba2f3a2cb0d"
   }
  }
 },
 "nbformat": 4,
 "nbformat_minor": 2
}
