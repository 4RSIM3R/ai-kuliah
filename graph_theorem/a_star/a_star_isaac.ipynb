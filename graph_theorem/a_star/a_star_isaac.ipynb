{
 "cells": [
  {
   "cell_type": "code",
   "execution_count": 10,
   "metadata": {},
   "outputs": [
    {
     "name": "stdout",
     "output_type": "stream",
     "text": [
      "A star in isaac\n"
     ]
    }
   ],
   "source": [
    "print('A star in isaac')"
   ]
  },
  {
   "cell_type": "code",
   "execution_count": 11,
   "metadata": {},
   "outputs": [],
   "source": [
    "def display_graph(graph):\n",
    "    \"\"\"Display each node with it's neighbours and costs\"\"\"\n",
    "    \n",
    "    # Repeat for each node in the graph\n",
    "    for node, neighbours in graph.items():\n",
    "        print(f\"Node: {node}\")\n",
    "        print(\"Neighbours:\", end=\" \")\n",
    "\n",
    "        # Repeat for each neighbour node (n_node) in the neighbours list\n",
    "        for n_node in neighbours:\n",
    "            print(f\"{n_node}:{neighbours[n_node]}\", end = \" \")\n",
    "        print(\"\\n\")\n",
    "        \n",
    "        \n",
    "def display_list(adjacency_list):\n",
    "    \"\"\"Display a list of nodes with their closest neighbour and scores\"\"\"\n",
    "\n",
    "    print(\"   (g-score, f-score, previous)\")\n",
    "\n",
    "    # Repeat for each node in the given adjacency list\n",
    "    for node, neighbours in adjacency_list.items():\n",
    "        print(f\"{node}: {neighbours}\")\n",
    "    print()"
   ]
  },
  {
   "cell_type": "code",
   "execution_count": 12,
   "metadata": {},
   "outputs": [],
   "source": [
    "import sys\n",
    "\n",
    "G_SCORE = 0\n",
    "F_SCORE = 1\n",
    "PREVIOUS = 2\n",
    "\n",
    "def get_minimum_node(unvisited):\n",
    "\n",
    "    lowest_key = None\n",
    "    lowest_value = sys.maxsize\n",
    "\n",
    "    for node in unvisited.items():\n",
    "        current_f_score = node[1][F_SCORE]\n",
    "\n",
    "        if current_f_score < lowest_value:\n",
    "            lowest_value = current_f_score\n",
    "            lowest_key = node[0]\n",
    "\n",
    "    return lowest_key\n",
    "\n",
    "def a_star(graph, start, end):\n",
    "\n",
    "    visited = {}\n",
    "    unvisited = {}\n",
    "\n",
    "    for node in graph:\n",
    "        unvisited[node] = [sys.maxsize, sys.maxsize, None]\n",
    "\n",
    "    unvisited[start] = [0, F_SCORE, None]\n",
    "\n",
    "    finished = False\n",
    "\n",
    "    while finished == False:\n",
    "\n",
    "        if len(unvisited) == 0:\n",
    "            finished = True\n",
    "        else:\n",
    "            current_node = get_minimum_node(unvisited)\n",
    "            \n",
    "            if current_node == end:\n",
    "                finished = True\n",
    "                visited[current_node] = unvisited[current_node]\n",
    "            else: \n",
    "                neighbours = graph[current_node]\n",
    "\n",
    "                for node in neighbours:\n",
    "                    \n",
    "                    if node not in visited:\n",
    "\n",
    "                        new_g_score = unvisited[current_node][G_SCORE] + neighbours[node]\n",
    "                        if new_g_score < unvisited[node][G_SCORE]:\n",
    "                            unvisited[node][G_SCORE] = new_g_score\n",
    "                            unvisited[node][F_SCORE] = new_g_score + 1\n",
    "                            unvisited[node][PREVIOUS] = current_node\n",
    "            \n",
    "\n",
    "                visited[current_node] = unvisited[current_node]\n",
    "\n",
    "                del unvisited[current_node]\n",
    "\n",
    "\n",
    "\n",
    "                \n",
    "    display_list(visited)\n",
    "    return visited"
   ]
  },
  {
   "cell_type": "code",
   "execution_count": 13,
   "metadata": {},
   "outputs": [],
   "source": [
    "def display_shortest_path(visited, start_node, target_node):\n",
    "    \"\"\"Display the shortest path from start node to target node\"\"\"\n",
    "\n",
    "    # Set the current node and the path as the target node\n",
    "    current_node = target_node\n",
    "    path = target_node\n",
    "\n",
    "    # Repeat until the current node reaches the start node\n",
    "    while current_node != start_node:\n",
    "        # Add the previous node to the start of the path\n",
    "        previous_node = visited[current_node][PREVIOUS]\n",
    "        path = previous_node + \" -> \" + path\n",
    "\n",
    "        # Update the current node to be the previous node\n",
    "        current_node = previous_node\n",
    "\n",
    "    # Testing\n",
    "    cost = visited[target_node][G_SCORE]\n",
    "    print(f\"The shortest path from {start_node} to {target_node} is:\")\n",
    "    print(f\"Path: {path}\")\n",
    "    print(f\"Cost: {cost}\")"
   ]
  },
  {
   "cell_type": "code",
   "execution_count": 14,
   "metadata": {},
   "outputs": [
    {
     "name": "stdout",
     "output_type": "stream",
     "text": [
      "   (g-score, f-score, previous)\n",
      "A: [0, 1, None]\n",
      "D: [5, 6, 'A']\n",
      "B: [10, 11, 'A']\n",
      "C: [11, 12, 'D']\n",
      "F: [19, 20, 'D']\n",
      "\n",
      "The shortest path from A to F is:\n",
      "Path: A -> D -> F\n",
      "Cost: 19\n"
     ]
    }
   ],
   "source": [
    "test_graph = {\n",
    "    \"A\": {\"B\": 10, \"C\": 12, \"D\": 5},\n",
    "    \"B\": {\"A\": 10, \"E\": 11},\n",
    "    \"C\": {\"A\": 12, \"D\": 6, \"E\": 11, \"F\": 8},\n",
    "    \"D\": {\"A\": 5, \"C\": 6, \"F\": 14},\n",
    "    \"E\": {\"B\": 11, \"C\": 11},\n",
    "    \"F\": {\"C\": 8, \"D\": 14}\n",
    "}\n",
    "\n",
    "visited = a_star(test_graph, \"A\", \"F\")\n",
    "display_shortest_path(visited, \"A\", \"F\")"
   ]
  },
  {
   "cell_type": "code",
   "execution_count": 15,
   "metadata": {},
   "outputs": [
    {
     "name": "stdout",
     "output_type": "stream",
     "text": [
      "   (g-score, f-score, previous)\n",
      "A: [0, 1, None]\n",
      "B: [1, 2, 'A']\n",
      "C: [3, 4, 'A']\n",
      "D: [6, 7, 'B']\n",
      "\n",
      "The shortest path from A to D is:\n",
      "Path: A -> B -> D\n",
      "Cost: 6\n"
     ]
    }
   ],
   "source": [
    "adj_list = {\n",
    "    \"A\": {\"B\": 1, \"C\": 3, \"D\": 7},\n",
    "    \"B\": {\"A\": 1, \"D\": 5},\n",
    "    \"C\": {\"A\": 3, \"D\": 12},\n",
    "    \"D\": {\"A\": 7, \"B\": 5, \"C\": 12}\n",
    "}\n",
    "\n",
    "visited = a_star(adj_list, \"A\", \"D\")\n",
    "display_shortest_path(visited, \"A\", \"D\")"
   ]
  },
  {
   "cell_type": "code",
   "execution_count": 16,
   "metadata": {},
   "outputs": [
    {
     "data": {
      "text/plain": [
       "{'Arad': {'Sibiu': 140, 'Zerind': 75, 'Timisoara': 118},\n",
       " 'Zerind': {'Arad': 75, 'Oradea': 71},\n",
       " 'Oradea': {'Zerind': 71, 'Sibiu': 151},\n",
       " 'Sibiu': {'Arad': 140, 'Oradea': 151, 'Fagaras': 99, 'Rimnicu': 80},\n",
       " 'Timisoara': {'Arad': 118, 'Lugoj': 111},\n",
       " 'Lugoj': {'Timisoara': 111, 'Mehadia': 70},\n",
       " 'Mehadia': {'Lugoj': 70, 'Drobeta': 75},\n",
       " 'Drobeta': {'Mehadia': 75, 'Craiova': 120},\n",
       " 'Craiova': {'Drobeta': 120, 'Rimnicu': 146, 'Pitesti': 138},\n",
       " 'Rimnicu': {'Sibiu': 80, 'Craiova': 146, 'Pitesti': 97},\n",
       " 'Fagaras': {'Sibiu': 99, 'Bucharest': 211},\n",
       " 'Pitesti': {'Rimnicu': 97, 'Craiova': 138, 'Bucharest': 101},\n",
       " 'Bucharest': {'Fagaras': 211, 'Pitesti': 101, 'Giurgiu': 90, 'Urziceni': 85},\n",
       " 'Giurgiu': {'Bucharest': 90},\n",
       " 'Urziceni': {'Bucharest': 85, 'Vaslui': 142, 'Hirsova': 98},\n",
       " 'Hirsova': {'Urziceni': 98, 'Eforie': 86},\n",
       " 'Eforie': {'Hirsova': 86},\n",
       " 'Vaslui': {'Iasi': 92, 'Urziceni': 142},\n",
       " 'Iasi': {'Vaslui': 92, 'Neamt': 87},\n",
       " 'Neamt': {'Iasi': 87}}"
      ]
     },
     "execution_count": 16,
     "metadata": {},
     "output_type": "execute_result"
    }
   ],
   "source": [
    "my_map = {\n",
    "    'Arad'  : {'Sibiu': 140, 'Zerind': 75, 'Timisoara': 118},\n",
    "    'Zerind': {'Arad': 75, 'Oradea': 71},\n",
    "    'Oradea': {'Zerind': 71, 'Sibiu': 151},\n",
    "    'Sibiu': {'Arad': 140, 'Oradea': 151, 'Fagaras': 99, 'Rimnicu': 80},\n",
    "    'Timisoara': {'Arad': 118, 'Lugoj': 111},\n",
    "    'Lugoj': {'Timisoara': 111, 'Mehadia': 70},\n",
    "    'Mehadia': {'Lugoj': 70, 'Drobeta': 75},\n",
    "    'Drobeta': {'Mehadia': 75, 'Craiova': 120},\n",
    "    'Craiova': {'Drobeta': 120, 'Rimnicu': 146, 'Pitesti': 138},\n",
    "    'Rimnicu': {'Sibiu': 80, 'Craiova': 146, 'Pitesti': 97},\n",
    "    'Fagaras': {'Sibiu': 99, 'Bucharest': 211},\n",
    "    'Pitesti': {'Rimnicu': 97, 'Craiova': 138, 'Bucharest': 101},\n",
    "    'Bucharest': {'Fagaras': 211, 'Pitesti': 101, 'Giurgiu': 90, 'Urziceni': 85},\n",
    "    'Giurgiu': {'Bucharest': 90},\n",
    "    'Urziceni': {'Bucharest': 85, 'Vaslui': 142, 'Hirsova': 98},\n",
    "    'Hirsova': {'Urziceni': 98, 'Eforie': 86},\n",
    "    'Eforie': {'Hirsova': 86},\n",
    "    'Vaslui': {'Iasi': 92, 'Urziceni': 142},\n",
    "    'Iasi': {'Vaslui': 92, 'Neamt': 87},\n",
    "    'Neamt': {'Iasi': 87}\n",
    "}\n",
    "\n",
    "my_map"
   ]
  },
  {
   "cell_type": "code",
   "execution_count": 17,
   "metadata": {},
   "outputs": [
    {
     "name": "stdout",
     "output_type": "stream",
     "text": [
      "   (g-score, f-score, previous)\n",
      "Arad: [0, 1, None]\n",
      "Zerind: [75, 76, 'Arad']\n",
      "Timisoara: [118, 119, 'Arad']\n",
      "Sibiu: [140, 141, 'Arad']\n",
      "Oradea: [146, 147, 'Zerind']\n",
      "Rimnicu: [220, 221, 'Sibiu']\n",
      "Lugoj: [229, 230, 'Timisoara']\n",
      "Fagaras: [239, 240, 'Sibiu']\n",
      "Mehadia: [299, 300, 'Lugoj']\n",
      "Pitesti: [317, 318, 'Rimnicu']\n",
      "Craiova: [366, 367, 'Rimnicu']\n",
      "Drobeta: [374, 375, 'Mehadia']\n",
      "Bucharest: [418, 419, 'Pitesti']\n",
      "\n",
      "The shortest path from Arad to Bucharest is:\n",
      "Path: Arad -> Sibiu -> Rimnicu -> Pitesti -> Bucharest\n",
      "Cost: 418\n"
     ]
    }
   ],
   "source": [
    "visited = a_star(my_map, \"Arad\", \"Bucharest\")\n",
    "display_shortest_path(visited, \"Arad\", \"Bucharest\")"
   ]
  }
 ],
 "metadata": {
  "kernelspec": {
   "display_name": "Python 3.9.0 64-bit",
   "language": "python",
   "name": "python3"
  },
  "language_info": {
   "codemirror_mode": {
    "name": "ipython",
    "version": 3
   },
   "file_extension": ".py",
   "mimetype": "text/x-python",
   "name": "python",
   "nbconvert_exporter": "python",
   "pygments_lexer": "ipython3",
   "version": "3.9.0"
  },
  "orig_nbformat": 4,
  "vscode": {
   "interpreter": {
    "hash": "81794d4967e6c3204c66dcd87b604927b115b27c00565d3d43f05ba2f3a2cb0d"
   }
  }
 },
 "nbformat": 4,
 "nbformat_minor": 2
}
