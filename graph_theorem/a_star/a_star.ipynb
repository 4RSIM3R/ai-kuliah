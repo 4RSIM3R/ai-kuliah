{
 "cells": [
  {
   "cell_type": "code",
   "execution_count": 1,
   "metadata": {},
   "outputs": [
    {
     "name": "stdout",
     "output_type": "stream",
     "text": [
      "Assalamulaikum\n"
     ]
    }
   ],
   "source": [
    "print('Assalamulaikum')"
   ]
  },
  {
   "cell_type": "code",
   "execution_count": 25,
   "metadata": {},
   "outputs": [],
   "source": [
    "class Graph:\n",
    "\n",
    "    def __init__(self, adjacency_list) -> None:\n",
    "        self.adjacency_list = adjacency_list\n",
    "        pass\n",
    "\n",
    "    def get_neighbors(self, vertex):\n",
    "        return self.adjacency_list[vertex]\n",
    "\n",
    "    def heuristic(self, n):\n",
    "\n",
    "        H = {\n",
    "            'A': 1,\n",
    "            'B': 1,\n",
    "            'C': 1,\n",
    "            'D': 1\n",
    "        }\n",
    "\n",
    "        return H[n]\n",
    "\n",
    "    def a_star(self, start, end):\n",
    "\n",
    "        open_list = set([start])  # visited but not yet checked the neighbor\n",
    "        closed_list = set([])  # visited and checked the neighbor\n",
    "\n",
    "        g = {}\n",
    "\n",
    "        g[start] = 0\n",
    "\n",
    "        parents = {}\n",
    "\n",
    "        parents[start] = start\n",
    "\n",
    "        while len(open_list) > 0:\n",
    "\n",
    "            n = None\n",
    "\n",
    "            for v in open_list.copy():\n",
    "                if n == None or g[v] + self.heuristic(v) < g[n] + self.heuristic(n):\n",
    "                    n = v\n",
    "\n",
    "                if n == None:\n",
    "                    print('Path Does Not Exist')\n",
    "                    return None\n",
    "\n",
    "                if n == end:\n",
    "                    reconst_path = []\n",
    "                    while parents[n] != n:\n",
    "                        reconst_path.append(n)\n",
    "                        n = parents[n]\n",
    "                    \n",
    "                    reconst_path.append(start)\n",
    "                    reconst_path.reverse()\n",
    "\n",
    "                    return reconst_path\n",
    "                    \n",
    "                for (m, weight) in self.get_neighbors(n):\n",
    "                    \n",
    "                    if m not in open_list or m not in closed_list:\n",
    "                        open_list.add(m)\n",
    "                        parents[m] = n\n",
    "                        g[m] = g[n] + weight\n",
    "                    else: \n",
    "                        if g[m] > g[n] + weight:\n",
    "                            g[m] = g[n] + weight\n",
    "                            parents[m] = n\n",
    "\n",
    "                            if m in closed_list:\n",
    "                                closed_list.remove(m)\n",
    "                                open_list.add(m)\n",
    "\n",
    "            open_list.remove(n)\n",
    "            closed_list.add(n)\n",
    "\n",
    "        print('Path does not exist')\n",
    "        return None\n",
    "\n",
    "        \n"
   ]
  },
  {
   "cell_type": "code",
   "execution_count": 1,
   "metadata": {},
   "outputs": [
    {
     "ename": "NameError",
     "evalue": "name 'Graph' is not defined",
     "output_type": "error",
     "traceback": [
      "\u001b[1;31m---------------------------------------------------------------------------\u001b[0m",
      "\u001b[1;31mNameError\u001b[0m                                 Traceback (most recent call last)",
      "\u001b[1;32m<ipython-input-1-c4d0c65e6d20>\u001b[0m in \u001b[0;36m<module>\u001b[1;34m\u001b[0m\n\u001b[0;32m      5\u001b[0m }\n\u001b[0;32m      6\u001b[0m \u001b[1;33m\u001b[0m\u001b[0m\n\u001b[1;32m----> 7\u001b[1;33m \u001b[0mgraph\u001b[0m \u001b[1;33m=\u001b[0m \u001b[0mGraph\u001b[0m\u001b[1;33m(\u001b[0m\u001b[0madj_list\u001b[0m\u001b[1;33m)\u001b[0m\u001b[1;33m\u001b[0m\u001b[1;33m\u001b[0m\u001b[0m\n\u001b[0m\u001b[0;32m      8\u001b[0m \u001b[0mgraph\u001b[0m\u001b[1;33m.\u001b[0m\u001b[0ma_star\u001b[0m\u001b[1;33m(\u001b[0m\u001b[1;34m'A'\u001b[0m\u001b[1;33m,\u001b[0m \u001b[1;34m'D'\u001b[0m\u001b[1;33m)\u001b[0m\u001b[1;33m\u001b[0m\u001b[1;33m\u001b[0m\u001b[0m\n",
      "\u001b[1;31mNameError\u001b[0m: name 'Graph' is not defined"
     ]
    }
   ],
   "source": [
    "adj_list = {\n",
    "    'A': [('B', 1), ('C', 3), ('D', 7)],\n",
    "    'B': [('D', 5)],\n",
    "    'C': [('D', 12)]\n",
    "}\n",
    "\n",
    "graph = Graph(adj_list)\n",
    "graph.a_star('A', 'D')"
   ]
  }
 ],
 "metadata": {
  "kernelspec": {
   "display_name": "Python 3",
   "language": "python",
   "name": "python3"
  },
  "language_info": {
   "codemirror_mode": {
    "name": "ipython",
    "version": 3
   },
   "file_extension": ".py",
   "mimetype": "text/x-python",
   "name": "python",
   "nbconvert_exporter": "python",
   "pygments_lexer": "ipython3",
   "version": "3.9.0"
  },
  "vscode": {
   "interpreter": {
    "hash": "81794d4967e6c3204c66dcd87b604927b115b27c00565d3d43f05ba2f3a2cb0d"
   }
  }
 },
 "nbformat": 4,
 "nbformat_minor": 2
}
