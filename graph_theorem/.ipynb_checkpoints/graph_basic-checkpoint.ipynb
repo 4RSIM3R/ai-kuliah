{
 "cells": [
  {
   "cell_type": "code",
   "execution_count": 1,
   "metadata": {},
   "outputs": [],
   "source": [
    "class Vertex:\n",
    "    \n",
    "    def __init__(self, value):\n",
    "        self.value = value\n",
    "        self.neighbors = list()\n",
    "        \n",
    "    def add_neighbor(self, new_neighbor):\n",
    "        if new_neighbor not in self.neighbors:\n",
    "            self.neighbors.append(new_neighbor)"
   ]
  },
  {
   "cell_type": "code",
   "execution_count": 2,
   "metadata": {},
   "outputs": [],
   "source": [
    "class Graph:\n",
    "    \n",
    "    def __init__(self):\n",
    "        self.vertices = {}\n",
    "    \n",
    "    def add_vertex(self, vertex):\n",
    "        if isinstance(vertex, Vertex) and vertex.value not in self.vertices:\n",
    "            self.vertices[vertex.value] = vertex\n",
    "        else:\n",
    "            raise Exception(\"Vertex {} already added\".format(vertex.value))\n",
    "            \n",
    "    def is_vertex_valid(self, vertex):\n",
    "        return isinstance(vertex, Vertex) and vertex.value in self.vertices\n",
    "            \n",
    "    def add_edge_between_node(self, first, second):\n",
    "        \n",
    "        if self.is_vertex_valid(first) and self.is_vertex_valid(second):\n",
    "            \n",
    "            for key, value in self.vertices.items():\n",
    "                if key == first.value:\n",
    "                    value.add_neighbor(second)\n",
    "                if key == second.value:\n",
    "                    value.add_neighbor(first)\n",
    "            \n",
    "        else: \n",
    "            raise Exception(\"Vertex is not valid\")\n",
    "            \n",
    "    def is_two_edge_connected(self, first, second):\n",
    "        \n",
    "        if self.is_vertex_valid(first) and self.is_vertex_valid(second):\n",
    "            for n in first.neighbors:\n",
    "                if n.value == second.value:\n",
    "                    return True\n",
    "            return False\n",
    "        else:\n",
    "            raise Exception(\"Vertex is not valid\")\n",
    "            \n",
    "    def print_graph(self):\n",
    "        for key in sorted(list(self.vertices.keys())):\n",
    "            n = str([val.value for val in self.vertices[key].neighbors])\n",
    "            print(\"{} -> {}\".format(key, n))"
   ]
  },
  {
   "cell_type": "code",
   "execution_count": 3,
   "metadata": {},
   "outputs": [
    {
     "name": "stdout",
     "output_type": "stream",
     "text": [
      "batu -> ['malang']\n",
      "malang -> ['pasuruan', 'batu']\n",
      "pasuruan -> ['malang']\n"
     ]
    },
    {
     "data": {
      "text/plain": [
       "True"
      ]
     },
     "execution_count": 3,
     "metadata": {},
     "output_type": "execute_result"
    }
   ],
   "source": [
    "pasuruan = Vertex(\"pasuruan\")\n",
    "malang = Vertex(\"malang\")\n",
    "batu = Vertex(\"batu\")\n",
    "\n",
    "graph = Graph()\n",
    "\n",
    "graph.add_vertex(pasuruan)\n",
    "graph.add_vertex(malang)\n",
    "graph.add_vertex(batu)\n",
    "\n",
    "graph.add_edge_between_node(pasuruan, malang)\n",
    "graph.add_edge_between_node(malang, batu)\n",
    "\n",
    "graph.print_graph()\n",
    "\n",
    "graph.is_two_edge_connected(pasuruan, batu)"
   ]
  }
 ],
 "metadata": {
  "kernelspec": {
   "display_name": "Python 3",
   "language": "python",
   "name": "python3"
  },
  "language_info": {
   "codemirror_mode": {
    "name": "ipython",
    "version": 3
   },
   "file_extension": ".py",
   "mimetype": "text/x-python",
   "name": "python",
   "nbconvert_exporter": "python",
   "pygments_lexer": "ipython3",
   "version": "3.9.0"
  },
  "vscode": {
   "interpreter": {
    "hash": "81794d4967e6c3204c66dcd87b604927b115b27c00565d3d43f05ba2f3a2cb0d"
   }
  }
 },
 "nbformat": 4,
 "nbformat_minor": 2
}
