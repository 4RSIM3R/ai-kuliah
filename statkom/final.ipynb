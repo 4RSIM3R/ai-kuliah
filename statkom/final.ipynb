{
 "cells": [
  {
   "cell_type": "code",
   "execution_count": 5,
   "metadata": {},
   "outputs": [
    {
     "name": "stdout",
     "output_type": "stream",
     "text": [
      "Requirement already satisfied: numpy in c:\\users\\ilzam\\appdata\\roaming\\python\\python39\\site-packages (1.24.1)"
     ]
    },
    {
     "name": "stderr",
     "output_type": "stream",
     "text": [
      "WARNING: Ignoring invalid distribution -ip (c:\\python39\\lib\\site-packages)\n",
      "WARNING: Ignoring invalid distribution -ip (c:\\python39\\lib\\site-packages)\n",
      "WARNING: Ignoring invalid distribution -ip (c:\\python39\\lib\\site-packages)\n",
      "  WARNING: Failed to write executable - trying to use .deleteme logic\n",
      "  WARNING: No metadata found in c:\\users\\ilzam\\appdata\\roaming\\python\\python39\\site-packages\n",
      "ERROR: Could not install packages due to an OSError: [WinError 2] The system cannot find the file specified: 'C:\\\\Python39\\\\Scripts\\\\f2py.exe' -> 'C:\\\\Python39\\\\Scripts\\\\f2py.exe.deleteme'\n",
      "\n",
      "WARNING: Ignoring invalid distribution -ip (c:\\python39\\lib\\site-packages)\n",
      "WARNING: Ignoring invalid distribution -ip (c:\\python39\\lib\\site-packages)\n"
     ]
    },
    {
     "name": "stdout",
     "output_type": "stream",
     "text": [
      "\n",
      "Requirement already satisfied: pandas in c:\\python39\\lib\\site-packages (1.5.2)\n",
      "Requirement already satisfied: matplotlib in c:\\python39\\lib\\site-packages (3.4.1)\n",
      "Requirement already satisfied: seaborn in c:\\python39\\lib\\site-packages (0.11.2)\n",
      "Requirement already satisfied: scipy in c:\\python39\\lib\\site-packages (1.6.3)\n",
      "Requirement already satisfied: python-dateutil>=2.8.1 in c:\\users\\ilzam\\appdata\\roaming\\python\\python39\\site-packages (from pandas) (2.8.1)\n",
      "Requirement already satisfied: pytz>=2020.1 in c:\\python39\\lib\\site-packages (from pandas) (2022.7.1)\n",
      "Requirement already satisfied: cycler>=0.10 in c:\\python39\\lib\\site-packages (from matplotlib) (0.10.0)\n",
      "Requirement already satisfied: kiwisolver>=1.0.1 in c:\\python39\\lib\\site-packages (from matplotlib) (1.3.1)\n",
      "Requirement already satisfied: pillow>=6.2.0 in c:\\python39\\lib\\site-packages (from matplotlib) (9.3.0)\n",
      "Requirement already satisfied: pyparsing>=2.2.1 in c:\\users\\ilzam\\appdata\\roaming\\python\\python39\\site-packages (from matplotlib) (2.4.7)\n",
      "Collecting numpy\n",
      "  Using cached numpy-1.22.4-cp39-cp39-win_amd64.whl (14.7 MB)\n",
      "Requirement already satisfied: six in c:\\users\\ilzam\\appdata\\roaming\\python\\python39\\site-packages (from cycler>=0.10->matplotlib) (1.15.0)\n",
      "Installing collected packages: numpy\n",
      "  Attempting uninstall: numpy\n",
      "    Found existing installation: numpy 1.24.1\n",
      "    Uninstalling numpy-1.24.1:\n",
      "      Successfully uninstalled numpy-1.24.1\n",
      "  Rolling back uninstall of numpy\n",
      "  Moving to c:\\users\\ilzam\\appdata\\roaming\\python\\python39\\scripts\\f2py.exe\n",
      "   from C:\\Users\\Ilzam\\AppData\\Local\\Temp\\pip-uninstall-7marz8bw\\f2py.exe\n",
      "  Moving to c:\\users\\ilzam\\appdata\\roaming\\python\\python39\\site-packages\\numpy-1.24.1.dist-info\\\n",
      "   from C:\\Users\\Ilzam\\AppData\\Roaming\\Python\\Python39\\site-packages\\~umpy-1.24.1.dist-info\n",
      "  Moving to c:\\users\\ilzam\\appdata\\roaming\\python\\python39\\site-packages\\numpy\\\n",
      "   from C:\\Users\\Ilzam\\AppData\\Roaming\\Python\\Python39\\site-packages\\~-mpy\n"
     ]
    },
    {
     "name": "stderr",
     "output_type": "stream",
     "text": [
      "WARNING: Ignoring invalid distribution -ip (c:\\python39\\lib\\site-packages)\n"
     ]
    }
   ],
   "source": [
    "!pip install numpy pandas matplotlib seaborn scipy"
   ]
  },
  {
   "cell_type": "code",
   "execution_count": 84,
   "metadata": {},
   "outputs": [],
   "source": [
    "import pandas as pd\n",
    "import numpy as np\n",
    "import matplotlib.pyplot as plt\n",
    "import seaborn as sns"
   ]
  },
  {
   "cell_type": "code",
   "execution_count": 85,
   "metadata": {},
   "outputs": [
    {
     "data": {
      "text/html": [
       "<div>\n",
       "<style scoped>\n",
       "    .dataframe tbody tr th:only-of-type {\n",
       "        vertical-align: middle;\n",
       "    }\n",
       "\n",
       "    .dataframe tbody tr th {\n",
       "        vertical-align: top;\n",
       "    }\n",
       "\n",
       "    .dataframe thead th {\n",
       "        text-align: right;\n",
       "    }\n",
       "</style>\n",
       "<table border=\"1\" class=\"dataframe\">\n",
       "  <thead>\n",
       "    <tr style=\"text-align: right;\">\n",
       "      <th></th>\n",
       "      <th>Store</th>\n",
       "      <th>Date</th>\n",
       "      <th>Weekly_Sales</th>\n",
       "      <th>Holiday_Flag</th>\n",
       "      <th>Temperature</th>\n",
       "      <th>Fuel_Price</th>\n",
       "      <th>CPI</th>\n",
       "      <th>Unemployment</th>\n",
       "    </tr>\n",
       "  </thead>\n",
       "  <tbody>\n",
       "    <tr>\n",
       "      <th>0</th>\n",
       "      <td>1</td>\n",
       "      <td>05-02-2010</td>\n",
       "      <td>1643690.90</td>\n",
       "      <td>0</td>\n",
       "      <td>42.31</td>\n",
       "      <td>2.572</td>\n",
       "      <td>211.096358</td>\n",
       "      <td>8.106</td>\n",
       "    </tr>\n",
       "    <tr>\n",
       "      <th>1</th>\n",
       "      <td>1</td>\n",
       "      <td>12-02-2010</td>\n",
       "      <td>1641957.44</td>\n",
       "      <td>1</td>\n",
       "      <td>38.51</td>\n",
       "      <td>2.548</td>\n",
       "      <td>211.242170</td>\n",
       "      <td>8.106</td>\n",
       "    </tr>\n",
       "    <tr>\n",
       "      <th>2</th>\n",
       "      <td>1</td>\n",
       "      <td>19-02-2010</td>\n",
       "      <td>1611968.17</td>\n",
       "      <td>0</td>\n",
       "      <td>39.93</td>\n",
       "      <td>2.514</td>\n",
       "      <td>211.289143</td>\n",
       "      <td>8.106</td>\n",
       "    </tr>\n",
       "    <tr>\n",
       "      <th>3</th>\n",
       "      <td>1</td>\n",
       "      <td>26-02-2010</td>\n",
       "      <td>1409727.59</td>\n",
       "      <td>0</td>\n",
       "      <td>46.63</td>\n",
       "      <td>2.561</td>\n",
       "      <td>211.319643</td>\n",
       "      <td>8.106</td>\n",
       "    </tr>\n",
       "    <tr>\n",
       "      <th>4</th>\n",
       "      <td>1</td>\n",
       "      <td>05-03-2010</td>\n",
       "      <td>1554806.68</td>\n",
       "      <td>0</td>\n",
       "      <td>46.50</td>\n",
       "      <td>2.625</td>\n",
       "      <td>211.350143</td>\n",
       "      <td>8.106</td>\n",
       "    </tr>\n",
       "  </tbody>\n",
       "</table>\n",
       "</div>"
      ],
      "text/plain": [
       "   Store        Date  Weekly_Sales  Holiday_Flag  Temperature  Fuel_Price  \\\n",
       "0      1  05-02-2010    1643690.90             0        42.31       2.572   \n",
       "1      1  12-02-2010    1641957.44             1        38.51       2.548   \n",
       "2      1  19-02-2010    1611968.17             0        39.93       2.514   \n",
       "3      1  26-02-2010    1409727.59             0        46.63       2.561   \n",
       "4      1  05-03-2010    1554806.68             0        46.50       2.625   \n",
       "\n",
       "          CPI  Unemployment  \n",
       "0  211.096358         8.106  \n",
       "1  211.242170         8.106  \n",
       "2  211.289143         8.106  \n",
       "3  211.319643         8.106  \n",
       "4  211.350143         8.106  "
      ]
     },
     "execution_count": 85,
     "metadata": {},
     "output_type": "execute_result"
    }
   ],
   "source": [
    "df = pd.read_csv('walmart.csv')\n",
    "df.head()"
   ]
  },
  {
   "cell_type": "code",
   "execution_count": 86,
   "metadata": {},
   "outputs": [
    {
     "data": {
      "text/plain": [
       "Store             int64\n",
       "Date             object\n",
       "Weekly_Sales    float64\n",
       "Holiday_Flag      int64\n",
       "Temperature     float64\n",
       "Fuel_Price      float64\n",
       "CPI             float64\n",
       "Unemployment    float64\n",
       "dtype: object"
      ]
     },
     "execution_count": 86,
     "metadata": {},
     "output_type": "execute_result"
    }
   ],
   "source": [
    "df.dtypes"
   ]
  },
  {
   "cell_type": "code",
   "execution_count": 113,
   "metadata": {},
   "outputs": [
    {
     "name": "stderr",
     "output_type": "stream",
     "text": [
      "<ipython-input-113-43496fed48ad>:7: FutureWarning: The default value of numeric_only in DataFrame.corrwith is deprecated. In a future version, it will default to False. Select only valid columns or specify the value of numeric_only to silence this warning.\n",
      "  correlations = df.corrwith(y, method='pearson')\n"
     ]
    },
    {
     "data": {
      "text/plain": [
       "Weekly_Sales    1.000000\n",
       "Holiday_Flag    0.036891\n",
       "Fuel_Price      0.009464\n",
       "Temperature    -0.063810\n",
       "CPI            -0.072634\n",
       "Unemployment   -0.106176\n",
       "Store          -0.335332\n",
       "dtype: float64"
      ]
     },
     "execution_count": 113,
     "metadata": {},
     "output_type": "execute_result"
    }
   ],
   "source": [
    "# 1.a Assuming mark 'Weekly Sales' as a target, because our main goal is to analyze the sales\n",
    "\n",
    "# excluding Store_ID\n",
    "exclude = df.drop(['Store', 'Weekly_Sales'], axis=1)\n",
    "\n",
    "y = df['Weekly_Sales']\n",
    "correlations = df.corrwith(y, method='pearson')\n",
    "correlations = correlations.sort_values(ascending=False)\n",
    "correlations"
   ]
  },
  {
   "cell_type": "code",
   "execution_count": 124,
   "metadata": {},
   "outputs": [
    {
     "data": {
      "text/plain": [
       "(count    143.000000\n",
       " mean       5.964692\n",
       " std        1.421267\n",
       " min        3.879000\n",
       " 25%        4.607000\n",
       " 50%        5.946000\n",
       " 75%        7.127000\n",
       " max        8.623000\n",
       " Name: Unemployment, dtype: float64,\n",
       " count    143.000000\n",
       " mean     128.679669\n",
       " std        1.858300\n",
       " min      126.064000\n",
       " 25%      126.590094\n",
       " 50%      129.075677\n",
       " 75%      130.502414\n",
       " max      131.193097\n",
       " Name: CPI, dtype: float64,\n",
       " count    143.000000\n",
       " mean      62.253357\n",
       " std       16.180023\n",
       " min       28.840000\n",
       " 25%       48.470000\n",
       " 50%       64.220000\n",
       " 75%       77.440000\n",
       " max       86.090000\n",
       " Name: Temperature, dtype: float64,\n",
       " count    143.000000\n",
       " mean       3.216972\n",
       " std        0.416967\n",
       " min        2.540000\n",
       " 25%        2.764500\n",
       " 50%        3.290000\n",
       " 75%        3.586500\n",
       " max        3.881000\n",
       " Name: Fuel_Price, dtype: float64,\n",
       " count    1.430000e+02\n",
       " mean     2.094713e+06\n",
       " std      2.662014e+05\n",
       " min      1.762539e+06\n",
       " 25%      1.929611e+06\n",
       " 50%      2.073951e+06\n",
       " 75%      2.175039e+06\n",
       " max      3.676389e+06\n",
       " Name: Weekly_Sales, dtype: float64)"
      ]
     },
     "execution_count": 124,
     "metadata": {},
     "output_type": "execute_result"
    }
   ],
   "source": [
    "# 1.b get mean, median, and standar deviation for Store == 4\n",
    "\n",
    "unemployment = df[df['Store'] == 4]['Unemployment'].describe()\n",
    "cpi = df[df['Store'] == 4]['CPI'].describe()\n",
    "temperature = df[df['Store'] == 4]['Temperature'].describe()\n",
    "fuel = df[df['Store'] == 4]['Fuel_Price'].describe()\n",
    "weekly = df[df['Store'] == 4]['Weekly_Sales'].describe()\n",
    "\n",
    "unemployment, cpi, temperature, fuel, weekly"
   ]
  },
  {
   "cell_type": "code",
   "execution_count": 31,
   "metadata": {},
   "outputs": [
    {
     "name": "stdout",
     "output_type": "stream",
     "text": [
      "fuel :  {'q1': 2.7645, 'q2': 3.29, 'q3': 3.5865, 'iqr': 0.8220000000000001}\n",
      "unemployment :  {'q1': 4.607, 'q2': 5.946, 'q3': 7.127, 'iqr': 2.5199999999999996}\n",
      "cpi :  {'q1': 126.59009445, 'q2': 129.0756774, 'q3': 130.5024138, 'iqr': 3.912319350000004}\n"
     ]
    }
   ],
   "source": [
    "# 1.c get q1, q2, q3 and IQR\n",
    "fuel = df[df['Store'] == 4]['Fuel_Price'].describe()\n",
    "unemployment = df[df['Store'] == 4]['Unemployment'].describe()\n",
    "cpi = df[df['Store'] == 4]['CPI'].describe()\n",
    "\n",
    "fuel_res = {\n",
    "    'q1': fuel.loc['25%'],\n",
    "    'q2': fuel.loc['50%'],\n",
    "    'q3': fuel.loc['75%'],\n",
    "    'iqr': fuel.loc['75%'] - fuel.loc['25%']\n",
    "}\n",
    "\n",
    "unep_res = {\n",
    "    'q1': unemployment.loc['25%'],\n",
    "    'q2': unemployment.loc['50%'],\n",
    "    'q3': unemployment.loc['75%'],\n",
    "    'iqr': unemployment.loc['75%'] - unemployment.loc['25%']\n",
    "}\n",
    "\n",
    "cpi_res = {\n",
    "    'q1': cpi.loc['25%'],\n",
    "    'q2': cpi.loc['50%'],\n",
    "    'q3': cpi.loc['75%'],\n",
    "    'iqr': cpi.loc['75%'] - cpi.loc['25%']\n",
    "}\n",
    "\n",
    "\n",
    "print('fuel : ', fuel_res)\n",
    "print('unemployment : ', unep_res)\n",
    "print('cpi : ', cpi_res)"
   ]
  },
  {
   "cell_type": "code",
   "execution_count": 49,
   "metadata": {},
   "outputs": [
    {
     "data": {
      "text/plain": [
       "(0.0, 0.0, 0.0650499640241636)"
      ]
     },
     "execution_count": 49,
     "metadata": {},
     "output_type": "execute_result"
    }
   ],
   "source": [
    "# 1.d\n",
    "\n",
    "holiday_var = df.loc[df['Holiday_Flag'] == 1, 'Holiday_Flag'].var()\n",
    "non_holiday_var = df.loc[df['Holiday_Flag'] == 0, 'Holiday_Flag'].var()\n",
    "all_holiday = df['Holiday_Flag'].var()\n",
    "holiday_var, non_holiday_var, all_holiday"
   ]
  },
  {
   "cell_type": "code",
   "execution_count": 131,
   "metadata": {},
   "outputs": [
    {
     "name": "stdout",
     "output_type": "stream",
     "text": [
      "Store\n",
      "1     1.555264e+06\n",
      "2     1.925751e+06\n",
      "3     4.027044e+05\n",
      "4     2.094713e+06\n",
      "5     3.180118e+05\n",
      "6     1.564728e+06\n",
      "7     5.706173e+05\n",
      "8     9.087495e+05\n",
      "9     5.439806e+05\n",
      "10    1.899425e+06\n",
      "11    1.356383e+06\n",
      "12    1.009002e+06\n",
      "13    2.003620e+06\n",
      "14    2.020978e+06\n",
      "15    6.233125e+05\n",
      "16    5.192477e+05\n",
      "17    8.935814e+05\n",
      "18    1.084718e+06\n",
      "19    1.444999e+06\n",
      "20    2.107677e+06\n",
      "21    7.560691e+05\n",
      "22    1.028501e+06\n",
      "23    1.389864e+06\n",
      "24    1.356755e+06\n",
      "25    7.067215e+05\n",
      "26    1.002912e+06\n",
      "27    1.775216e+06\n",
      "28    1.323522e+06\n",
      "29    5.394514e+05\n",
      "30    4.385796e+05\n",
      "31    1.395901e+06\n",
      "32    1.166568e+06\n",
      "33    2.598617e+05\n",
      "34    9.667816e+05\n",
      "35    9.197250e+05\n",
      "36    3.735120e+05\n",
      "37    5.189003e+05\n",
      "38    3.857317e+05\n",
      "39    1.450668e+06\n",
      "40    9.641280e+05\n",
      "41    1.268125e+06\n",
      "42    5.564039e+05\n",
      "43    6.333247e+05\n",
      "44    3.027489e+05\n",
      "45    7.859814e+05\n",
      "Name: Weekly_Sales, dtype: float64\n"
     ]
    }
   ],
   "source": [
    "# 1. e\n",
    "\n",
    "mean_sales_by_store = df.groupby('Store')['Weekly_Sales'].mean()\n",
    "\n",
    "print(mean_sales_by_store)"
   ]
  },
  {
   "cell_type": "code",
   "execution_count": 58,
   "metadata": {},
   "outputs": [
    {
     "data": {
      "text/plain": [
       "Store\n",
       "9     31406.616557\n",
       "8     31379.780750\n",
       "3     31372.988971\n",
       "11    31372.988971\n",
       "6     31110.107182\n",
       "5     30968.878137\n",
       "1     30887.555523\n",
       "2     30837.422420\n",
       "21    30837.422420\n",
       "30    30837.422420\n",
       "Name: CPI, dtype: float64"
      ]
     },
     "execution_count": 58,
     "metadata": {},
     "output_type": "execute_result"
    }
   ],
   "source": [
    "# 1.f\n",
    "top_3_cpi_by_store = df.groupby('Store')['CPI'].sum().nlargest(10)\n",
    "\n",
    "top_3_cpi_by_store"
   ]
  },
  {
   "cell_type": "code",
   "execution_count": 59,
   "metadata": {},
   "outputs": [
    {
     "name": "stdout",
     "output_type": "stream",
     "text": [
      "Holiday SUM :  77070.6412244\n",
      "Non Holiday SUM :  1027036.3231925\n"
     ]
    }
   ],
   "source": [
    "# 1.g\n",
    "holiday = df.loc[df['Holiday_Flag'] == 1, 'CPI']\n",
    "non_holiday = df.loc[df['Holiday_Flag'] == 0, 'CPI']\n",
    "\n",
    "holiday_sum = holiday.sum()\n",
    "\n",
    "non_holiday_sum = non_holiday.sum()\n",
    "\n",
    "print('Holiday SUM : ', holiday_sum)\n",
    "print('Non Holiday SUM : ', non_holiday_sum)"
   ]
  },
  {
   "cell_type": "code",
   "execution_count": 60,
   "metadata": {},
   "outputs": [
    {
     "name": "stdout",
     "output_type": "stream",
     "text": [
      "Requirement already satisfied: scipy in c:\\python39\\lib\\site-packages (1.6.3)\n",
      "Collecting numpy<1.23.0,>=1.16.5\n",
      "  Using cached numpy-1.22.4-cp39-cp39-win_amd64.whl (14.7 MB)\n",
      "Installing collected packages: numpy\n",
      "  Attempting uninstall: numpy\n",
      "    Found existing installation: numpy 1.24.1\n",
      "    Uninstalling numpy-1.24.1:\n",
      "      Successfully uninstalled numpy-1.24.1"
     ]
    },
    {
     "name": "stderr",
     "output_type": "stream",
     "text": [
      "WARNING: Ignoring invalid distribution -ip (c:\\python39\\lib\\site-packages)\n",
      "WARNING: Ignoring invalid distribution -ip (c:\\python39\\lib\\site-packages)\n",
      "WARNING: Ignoring invalid distribution -ip (c:\\python39\\lib\\site-packages)\n",
      "  WARNING: Failed to write executable - trying to use .deleteme logic\n",
      "  WARNING: No metadata found in c:\\users\\ilzam\\appdata\\roaming\\python\\python39\\site-packages\n",
      "ERROR: Could not install packages due to an OSError: [WinError 2] The system cannot find the file specified: 'C:\\\\Python39\\\\Scripts\\\\f2py.exe' -> 'C:\\\\Python39\\\\Scripts\\\\f2py.exe.deleteme'\n",
      "\n",
      "WARNING: Ignoring invalid distribution -ip (c:\\python39\\lib\\site-packages)\n",
      "WARNING: Ignoring invalid distribution -ip (c:\\python39\\lib\\site-packages)\n",
      "WARNING: Ignoring invalid distribution -ip (c:\\python39\\lib\\site-packages)\n"
     ]
    },
    {
     "name": "stdout",
     "output_type": "stream",
     "text": [
      "\n",
      "  Rolling back uninstall of numpy\n",
      "  Moving to c:\\users\\ilzam\\appdata\\roaming\\python\\python39\\scripts\\f2py.exe\n",
      "   from C:\\Users\\Ilzam\\AppData\\Local\\Temp\\pip-uninstall-btfmycgq\\f2py.exe\n",
      "  Moving to c:\\users\\ilzam\\appdata\\roaming\\python\\python39\\site-packages\\numpy-1.24.1.dist-info\\\n",
      "   from C:\\Users\\Ilzam\\AppData\\Roaming\\Python\\Python39\\site-packages\\~umpy-1.24.1.dist-info\n",
      "  Moving to c:\\users\\ilzam\\appdata\\roaming\\python\\python39\\site-packages\\numpy\\\n",
      "   from C:\\Users\\Ilzam\\AppData\\Roaming\\Python\\Python39\\site-packages\\~-mpy\n"
     ]
    }
   ],
   "source": [
    "!pip install scipy"
   ]
  },
  {
   "cell_type": "code",
   "execution_count": 66,
   "metadata": {},
   "outputs": [],
   "source": [
    "from scipy.stats import ks_2samp, norm, kstest"
   ]
  },
  {
   "cell_type": "code",
   "execution_count": 72,
   "metadata": {},
   "outputs": [
    {
     "data": {
      "image/png": "[encoded data removed]",
      "text/plain": [
       "<Figure size 432x288 with 1 Axes>"
      ]
     },
     "metadata": {
      "needs_background": "light"
     },
     "output_type": "display_data"
    }
   ],
   "source": [
    "# Assuming you have a DataFrame called df\n",
    "weekly_sales = df['Weekly_Sales']\n",
    "\n",
    "# Create a histogram with 10 bins\n",
    "plt.hist(weekly_sales, bins=10)\n",
    "\n",
    "# Set the labels and title\n",
    "plt.xlabel('Weekly Sales')\n",
    "plt.ylabel('Frequency')\n",
    "plt.title('Histogram of Weekly Sales')\n",
    "\n",
    "# Display the histogram\n",
    "plt.show()"
   ]
  },
  {
   "cell_type": "code",
   "execution_count": 75,
   "metadata": {},
   "outputs": [
    {
     "name": "stdout",
     "output_type": "stream",
     "text": [
      "The 'Weekly_Sales' column does not follow a normal distribution.\n"
     ]
    },
    {
     "data": {
      "text/plain": [
       "(1.0, 0.0)"
      ]
     },
     "execution_count": 75,
     "metadata": {},
     "output_type": "execute_result"
    }
   ],
   "source": [
    "# 2.a \n",
    "\n",
    "weekly_sales = df['Weekly_Sales']\n",
    "\n",
    "# Perform the Kolmogorov-Smirnov test against a normal distribution\n",
    "test_statistic, p_value = kstest(weekly_sales, norm.cdf)\n",
    "\n",
    "# Compare p-value with a significance level (e.g., 0.05)\n",
    "significance_level = 0.05\n",
    "\n",
    "if p_value > significance_level:\n",
    "    print(\"The 'Weekly_Sales' column appears to follow a normal distribution.\")\n",
    "else:\n",
    "    print(\"The 'Weekly_Sales' column does not follow a normal distribution.\")\n",
    "    \n",
    "test_statistic, p_value"
   ]
  },
  {
   "cell_type": "code",
   "execution_count": 74,
   "metadata": {},
   "outputs": [
    {
     "data": {
      "image/png": "[encoded data removed]",
      "text/plain": [
       "<Figure size 432x288 with 1 Axes>"
      ]
     },
     "metadata": {
      "needs_background": "light"
     },
     "output_type": "display_data"
    }
   ],
   "source": [
    "# Assuming you have a DataFrame called df\n",
    "weekly_sales = df['Fuel_Price']\n",
    "\n",
    "# Create a histogram with 10 bins\n",
    "plt.hist(weekly_sales, bins=10)\n",
    "\n",
    "# Set the labels and title\n",
    "plt.xlabel('Fuel Price')\n",
    "plt.ylabel('Frequency')\n",
    "plt.title('Histogram of Fuel Price')\n",
    "\n",
    "# Display the histogram\n",
    "plt.show()"
   ]
  },
  {
   "cell_type": "code",
   "execution_count": 76,
   "metadata": {},
   "outputs": [
    {
     "name": "stdout",
     "output_type": "stream",
     "text": [
      "The 'Weekly_Sales' column does not follow a normal distribution.\n"
     ]
    },
    {
     "data": {
      "text/plain": [
       "(0.9938591330984947, 0.0)"
      ]
     },
     "execution_count": 76,
     "metadata": {},
     "output_type": "execute_result"
    }
   ],
   "source": [
    "# 2.a \n",
    "\n",
    "fuel_price = df['Fuel_Price']\n",
    "\n",
    "# Perform the Kolmogorov-Smirnov test against a normal distribution\n",
    "test_statistic, p_value = kstest(fuel_price, norm.cdf)\n",
    "\n",
    "# Compare p-value with a significance level (e.g., 0.05)\n",
    "significance_level = 0.05\n",
    "\n",
    "if p_value > significance_level:\n",
    "    print(\"The 'Weekly_Sales' column appears to follow a normal distribution.\")\n",
    "else:\n",
    "    print(\"The 'Weekly_Sales' column does not follow a normal distribution.\")\n",
    "    \n",
    "test_statistic, p_value"
   ]
  },
  {
   "cell_type": "code",
   "execution_count": 114,
   "metadata": {},
   "outputs": [
    {
     "name": "stderr",
     "output_type": "stream",
     "text": [
      "<ipython-input-114-380444ae157f>:5: FutureWarning: The default value of numeric_only in DataFrame.corr is deprecated. In a future version, it will default to False. Select only valid columns or specify the value of numeric_only to silence this warning.\n",
      "  correlation_matrix = df.corr(method='pearson')\n"
     ]
    },
    {
     "data": {
      "image/png": "[encoded data removed]",
      "text/plain": [
       "<Figure size 720x720 with 2 Axes>"
      ]
     },
     "metadata": {
      "needs_background": "light"
     },
     "output_type": "display_data"
    }
   ],
   "source": [
    "# 2.b Unemployment with highest correlation\n",
    "# 3.a see 1.a\n",
    "\n",
    "# Assuming you have a DataFrame called df\n",
    "correlation_matrix = df.corr(method='pearson')\n",
    "\n",
    "plt.figure(figsize=(10, 10)) \n",
    "\n",
    "# Create the heatmap\n",
    "sns.heatmap(correlation_matrix, annot=True, cmap='Blues')\n",
    "\n",
    "# Display the heatmap\n",
    "plt.show()"
   ]
  },
  {
   "cell_type": "code",
   "execution_count": 118,
   "metadata": {},
   "outputs": [
    {
     "name": "stdout",
     "output_type": "stream",
     "text": [
      "Requirement already satisfied: sklearn in c:\\python39\\lib\\site-packages (0.0)\n",
      "Requirement already satisfied: scikit-learn in c:\\python39\\lib\\site-packages (from sklearn) (0.24.2)\n",
      "Requirement already satisfied: threadpoolctl>=2.0.0 in c:\\python39\\lib\\site-packages (from scikit-learn->sklearn) (2.1.0)\n",
      "Requirement already satisfied: scipy>=0.19.1 in c:\\python39\\lib\\site-packages (from scikit-learn->sklearn) (1.6.3)\n",
      "Requirement already satisfied: numpy>=1.13.3 in c:\\users\\ilzam\\appdata\\roaming\\python\\python39\\site-packages (from scikit-learn->sklearn) (1.24.1)\n",
      "Requirement already satisfied: joblib>=0.11 in c:\\python39\\lib\\site-packages (from scikit-learn->sklearn) (1.0.1)"
     ]
    },
    {
     "name": "stderr",
     "output_type": "stream",
     "text": [
      "WARNING: Ignoring invalid distribution -ip (c:\\python39\\lib\\site-packages)\n",
      "WARNING: Ignoring invalid distribution -ip (c:\\python39\\lib\\site-packages)\n",
      "WARNING: Ignoring invalid distribution -ip (c:\\python39\\lib\\site-packages)\n",
      "  WARNING: Failed to write executable - trying to use .deleteme logic\n",
      "  WARNING: No metadata found in c:\\users\\ilzam\\appdata\\roaming\\python\\python39\\site-packages\n",
      "ERROR: Could not install packages due to an OSError: [WinError 2] The system cannot find the file specified: 'C:\\\\Python39\\\\Scripts\\\\f2py.exe' -> 'C:\\\\Python39\\\\Scripts\\\\f2py.exe.deleteme'\n",
      "\n",
      "WARNING: Ignoring invalid distribution -ip (c:\\python39\\lib\\site-packages)\n",
      "WARNING: Ignoring invalid distribution -ip (c:\\python39\\lib\\site-packages)\n",
      "WARNING: Ignoring invalid distribution -ip (c:\\python39\\lib\\site-packages)"
     ]
    },
    {
     "name": "stdout",
     "output_type": "stream",
     "text": [
      "\n",
      "Collecting numpy>=1.13.3\n",
      "  Using cached numpy-1.22.4-cp39-cp39-win_amd64.whl (14.7 MB)\n",
      "Installing collected packages: numpy\n",
      "  Attempting uninstall: numpy\n",
      "    Found existing installation: numpy 1.24.1\n",
      "    Uninstalling numpy-1.24.1:\n",
      "      Successfully uninstalled numpy-1.24.1\n",
      "  Rolling back uninstall of numpy\n",
      "  Moving to c:\\users\\ilzam\\appdata\\roaming\\python\\python39\\scripts\\f2py.exe\n",
      "   from C:\\Users\\Ilzam\\AppData\\Local\\Temp\\pip-uninstall-22mdifix\\f2py.exe\n",
      "  Moving to c:\\users\\ilzam\\appdata\\roaming\\python\\python39\\site-packages\\numpy-1.24.1.dist-info\\\n",
      "   from C:\\Users\\Ilzam\\AppData\\Roaming\\Python\\Python39\\site-packages\\~umpy-1.24.1.dist-info\n",
      "  Moving to c:\\users\\ilzam\\appdata\\roaming\\python\\python39\\site-packages\\numpy\\\n",
      "   from C:\\Users\\Ilzam\\AppData\\Roaming\\Python\\Python39\\site-packages\\~-mpy\n"
     ]
    },
    {
     "name": "stderr",
     "output_type": "stream",
     "text": [
      "\n"
     ]
    }
   ],
   "source": [
    "!pip install sklearn"
   ]
  },
  {
   "cell_type": "code",
   "execution_count": 119,
   "metadata": {},
   "outputs": [],
   "source": [
    "# Assuming you have a DataFrame called df with columns \"Fuel_Price\" and \"Weekly_Sales\"\n",
    "X = df[\"Fuel_Price\"].values.reshape(-1, 1)\n",
    "y = df[\"Weekly_Sales\"].values.reshape(-1, 1)"
   ]
  },
  {
   "cell_type": "code",
   "execution_count": 120,
   "metadata": {},
   "outputs": [
    {
     "data": {
      "text/plain": [
       "LinearRegression()"
      ]
     },
     "execution_count": 120,
     "metadata": {},
     "output_type": "execute_result"
    }
   ],
   "source": [
    "from sklearn.linear_model import LinearRegression\n",
    "\n",
    "# Create a linear regression model\n",
    "regression_model = LinearRegression()\n",
    "regression_model.fit(X, y)"
   ]
  },
  {
   "cell_type": "code",
   "execution_count": 121,
   "metadata": {},
   "outputs": [],
   "source": [
    "# Predict the values using the model\n",
    "y_pred = regression_model.predict(X)\n",
    "\n",
    "# Compute the residuals (errors)\n",
    "residuals = y - y_pred"
   ]
  },
  {
   "cell_type": "code",
   "execution_count": 122,
   "metadata": {},
   "outputs": [
    {
     "data": {
      "text/plain": [
       "<matplotlib.legend.Legend at 0x27cbd902b80>"
      ]
     },
     "execution_count": 122,
     "metadata": {},
     "output_type": "execute_result"
    },
    {
     "data": {
      "image/png": "[encoded data removed]",
      "text/plain": [
       "<Figure size 432x288 with 1 Axes>"
      ]
     },
     "metadata": {
      "needs_background": "light"
     },
     "output_type": "display_data"
    }
   ],
   "source": [
    "# Plot the data points and the regression line\n",
    "plt.scatter(X, y, color='blue', label='Actual')\n",
    "plt.plot(X, y_pred, color='red', label='Regression Line')\n",
    "plt.xlabel('Fuel_Price')\n",
    "plt.ylabel('Weekly_Sales')\n",
    "plt.title('Linear Regression')\n",
    "plt.legend()"
   ]
  },
  {
   "cell_type": "code",
   "execution_count": 123,
   "metadata": {},
   "outputs": [
    {
     "data": {
      "image/png": "[encoded data removed]",
      "text/plain": [
       "<Figure size 432x288 with 1 Axes>"
      ]
     },
     "metadata": {
      "needs_background": "light"
     },
     "output_type": "display_data"
    }
   ],
   "source": [
    "# Display the error values\n",
    "plt.figure()\n",
    "plt.hist(residuals, bins=10, color='green')\n",
    "plt.xlabel('Residuals')\n",
    "plt.ylabel('Frequency')\n",
    "plt.title('Error Distribution')\n",
    "plt.show()"
   ]
  },
  {
   "cell_type": "code",
   "execution_count": null,
   "metadata": {},
   "outputs": [],
   "source": []
  }
 ],
 "metadata": {
  "kernelspec": {
   "display_name": "Python 3",
   "language": "python",
   "name": "python3"
  },
  "language_info": {
   "codemirror_mode": {
    "name": "ipython",
    "version": 3
   },
   "file_extension": ".py",
   "mimetype": "text/x-python",
   "name": "python",
   "nbconvert_exporter": "python",
   "pygments_lexer": "ipython3",
   "version": "3.9.13"
  }
 },
 "nbformat": 4,
 "nbformat_minor": 2
}
